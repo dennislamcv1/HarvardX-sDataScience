{
 "cells": [
  {
   "cell_type": "markdown",
   "metadata": {},
   "source": [
    "## Linear Regression"
   ]
  },
  {
   "cell_type": "markdown",
   "metadata": {},
   "source": [
    "***"
   ]
  },
  {
   "cell_type": "markdown",
   "metadata": {},
   "source": [
    "Create a data set using the following code:\n",
    "\n",
    "We will build 100 linear models using the data above and calculate the mean and standard deviation of the combined models. First, set the seed to 1 again (make sure to use sample.kind=\"Rounding\" if your R is version 3.6 or later). Then, within a replicate() loop, (1) partition the dataset into test and training sets with p = 0.5 and using dat$y to generate your indices, (2) train a linear model predicting y from x, (3) generate predictions on the test set, and (4) calculate the RMSE of that model. Then, report the mean and standard deviation (SD) of the RMSEs from all 100 models."
   ]
  },
  {
   "cell_type": "markdown",
   "metadata": {},
   "source": [
    "### Import Libraries"
   ]
  },
  {
   "cell_type": "code",
   "execution_count": 1,
   "metadata": {},
   "outputs": [
    {
     "data": {
      "application/javascript": [
       "IPython.notebook.set_autosave_interval(60000)"
      ]
     },
     "metadata": {},
     "output_type": "display_data"
    },
    {
     "name": "stdout",
     "output_type": "stream",
     "text": [
      "Autosaving every 60 seconds\n"
     ]
    }
   ],
   "source": [
    "import numpy as np\n",
    "import pandas as pd\n",
    "import matplotlib.pyplot as plt\n",
    "import seaborn as sns\n",
    "import sklearn\n",
    "# import shap\n",
    "# import statsmodels.api as sm\n",
    "# import datetime\n",
    "# from datetime import datetime, timedelta\n",
    "# import scipy.stats\n",
    "# import pandas_profiling\n",
    "# from pandas_profiling import ProfileReport\n",
    "# import graphviz\n",
    "\n",
    "# import xgboost as xgb\n",
    "# from xgboost import XGBClassifier, XGBRegressor\n",
    "# from xgboost import to_graphviz, plot_importance\n",
    "\n",
    "#from sklearn.experimental import enable_hist_gradient_boosting\n",
    "#from sklearn.linear_model import ElasticNet, Lasso, LinearRegression, LogisticRegression, Ridge\n",
    "#from sklearn.ensemble import RandomForestClassifier, RandomForestRegressor, ExtraTreesClassifier, ExtraTreesRegressor\n",
    "#from sklearn.ensemble import GradientBoostingClassifier, GradientBoostingRegressor, HistGradientBoostingClassifier, HistGradientBoostingRegressor\n",
    "\n",
    "\n",
    "%matplotlib inline\n",
    "#sets the default autosave frequency in seconds\n",
    "%autosave 60 \n",
    "sns.set_style('dark')\n",
    "sns.set(font_scale=1.2)\n",
    "\n",
    "plt.rc('axes', labelsize=14)\n",
    "plt.rc('xtick', labelsize=12)\n",
    "plt.rc('ytick', labelsize=12)\n",
    "\n",
    "from sklearn.linear_model import LinearRegression\n",
    "#from sklearn.pipeline import Pipeline\n",
    "#from sklearn.model_selection import RepeatedStratifiedKFold\n",
    "#from sklearn.feature_selection import RFE, RFECV, SelectKBest, f_classif, f_regression, chi2\n",
    "\n",
    "from sklearn.inspection import permutation_importance\n",
    "from sklearn.model_selection import cross_val_score, train_test_split, GridSearchCV, RandomizedSearchCV\n",
    "from sklearn.preprocessing import LabelEncoder, StandardScaler, MinMaxScaler, OneHotEncoder\n",
    "from sklearn.pipeline import Pipeline\n",
    "from sklearn.tree import export_graphviz, plot_tree\n",
    "from sklearn.metrics import confusion_matrix, classification_report, mean_absolute_error, mean_squared_error,r2_score\n",
    "from sklearn.metrics import plot_confusion_matrix, plot_precision_recall_curve, plot_roc_curve, accuracy_score\n",
    "from sklearn.metrics import auc, f1_score, precision_score, recall_score, roc_auc_score\n",
    "\n",
    "\n",
    "#from tpot import TPOTClassifier, TPOTRegressor\n",
    "#from imblearn.under_sampling import RandomUnderSampler\n",
    "#from imblearn.over_sampling import RandomOverSampler\n",
    "#from imblearn.over_sampling import SMOTE\n",
    "\n",
    "import warnings\n",
    "warnings.filterwarnings('ignore')\n",
    "\n",
    "# import pickle\n",
    "# from pickle import dump, load\n",
    "\n",
    "# Use Folium library to plot values on a map.\n",
    "#import folium\n",
    "\n",
    "# Use Feature-Engine library\n",
    "\n",
    "#import feature_engine.missing_data_imputers as mdi\n",
    "#from feature_engine.outlier_removers import Winsorizer\n",
    "#from feature_engine import categorical_encoders as ce\n",
    "\n",
    "\n",
    "np.random.seed(0)\n",
    "\n",
    "#from pycaret.classification import *\n",
    "#from pycaret.clustering import *\n",
    "#from pycaret.regression import *\n",
    "\n",
    "pd.set_option('display.max_columns',100)\n",
    "#pd.set_option('display.max_rows',100)\n",
    "pd.set_option('display.width', 1000)\n",
    "pd.set_option('display.float_format','{:.2f}'.format)\n",
    "np.set_printoptions(suppress=True)"
   ]
  },
  {
   "cell_type": "markdown",
   "metadata": {},
   "source": [
    "## Exploratory Data Analysis"
   ]
  },
  {
   "cell_type": "code",
   "execution_count": 2,
   "metadata": {},
   "outputs": [],
   "source": [
    "df = pd.read_csv(\"data1.csv\")"
   ]
  },
  {
   "cell_type": "code",
   "execution_count": 3,
   "metadata": {},
   "outputs": [
    {
     "data": {
      "text/html": [
       "<div>\n",
       "<style scoped>\n",
       "    .dataframe tbody tr th:only-of-type {\n",
       "        vertical-align: middle;\n",
       "    }\n",
       "\n",
       "    .dataframe tbody tr th {\n",
       "        vertical-align: top;\n",
       "    }\n",
       "\n",
       "    .dataframe thead th {\n",
       "        text-align: right;\n",
       "    }\n",
       "</style>\n",
       "<table border=\"1\" class=\"dataframe\">\n",
       "  <thead>\n",
       "    <tr style=\"text-align: right;\">\n",
       "      <th></th>\n",
       "      <th>x</th>\n",
       "      <th>y</th>\n",
       "    </tr>\n",
       "  </thead>\n",
       "  <tbody>\n",
       "    <tr>\n",
       "      <th>0</th>\n",
       "      <td>68.30</td>\n",
       "      <td>66.44</td>\n",
       "    </tr>\n",
       "    <tr>\n",
       "      <th>1</th>\n",
       "      <td>69.41</td>\n",
       "      <td>69.54</td>\n",
       "    </tr>\n",
       "    <tr>\n",
       "      <th>2</th>\n",
       "      <td>68.20</td>\n",
       "      <td>65.46</td>\n",
       "    </tr>\n",
       "    <tr>\n",
       "      <th>3</th>\n",
       "      <td>72.91</td>\n",
       "      <td>73.38</td>\n",
       "    </tr>\n",
       "    <tr>\n",
       "      <th>4</th>\n",
       "      <td>70.84</td>\n",
       "      <td>68.87</td>\n",
       "    </tr>\n",
       "    <tr>\n",
       "      <th>...</th>\n",
       "      <td>...</td>\n",
       "      <td>...</td>\n",
       "    </tr>\n",
       "    <tr>\n",
       "      <th>95</th>\n",
       "      <td>72.02</td>\n",
       "      <td>68.88</td>\n",
       "    </tr>\n",
       "    <tr>\n",
       "      <th>96</th>\n",
       "      <td>63.52</td>\n",
       "      <td>67.85</td>\n",
       "    </tr>\n",
       "    <tr>\n",
       "      <th>97</th>\n",
       "      <td>69.03</td>\n",
       "      <td>65.99</td>\n",
       "    </tr>\n",
       "    <tr>\n",
       "      <th>98</th>\n",
       "      <td>65.20</td>\n",
       "      <td>66.44</td>\n",
       "    </tr>\n",
       "    <tr>\n",
       "      <th>99</th>\n",
       "      <td>68.34</td>\n",
       "      <td>67.20</td>\n",
       "    </tr>\n",
       "  </tbody>\n",
       "</table>\n",
       "<p>100 rows × 2 columns</p>\n",
       "</div>"
      ],
      "text/plain": [
       "       x     y\n",
       "0  68.30 66.44\n",
       "1  69.41 69.54\n",
       "2  68.20 65.46\n",
       "3  72.91 73.38\n",
       "4  70.84 68.87\n",
       "..   ...   ...\n",
       "95 72.02 68.88\n",
       "96 63.52 67.85\n",
       "97 69.03 65.99\n",
       "98 65.20 66.44\n",
       "99 68.34 67.20\n",
       "\n",
       "[100 rows x 2 columns]"
      ]
     },
     "execution_count": 3,
     "metadata": {},
     "output_type": "execute_result"
    }
   ],
   "source": [
    "df"
   ]
  },
  {
   "cell_type": "code",
   "execution_count": 4,
   "metadata": {},
   "outputs": [
    {
     "name": "stdout",
     "output_type": "stream",
     "text": [
      "<class 'pandas.core.frame.DataFrame'>\n",
      "RangeIndex: 100 entries, 0 to 99\n",
      "Data columns (total 2 columns):\n",
      " #   Column  Non-Null Count  Dtype  \n",
      "---  ------  --------------  -----  \n",
      " 0   x       100 non-null    float64\n",
      " 1   y       100 non-null    float64\n",
      "dtypes: float64(2)\n",
      "memory usage: 1.7 KB\n"
     ]
    }
   ],
   "source": [
    "df.info()"
   ]
  },
  {
   "cell_type": "code",
   "execution_count": 5,
   "metadata": {},
   "outputs": [
    {
     "data": {
      "text/html": [
       "<div>\n",
       "<style scoped>\n",
       "    .dataframe tbody tr th:only-of-type {\n",
       "        vertical-align: middle;\n",
       "    }\n",
       "\n",
       "    .dataframe tbody tr th {\n",
       "        vertical-align: top;\n",
       "    }\n",
       "\n",
       "    .dataframe thead th {\n",
       "        text-align: right;\n",
       "    }\n",
       "</style>\n",
       "<table border=\"1\" class=\"dataframe\">\n",
       "  <thead>\n",
       "    <tr style=\"text-align: right;\">\n",
       "      <th></th>\n",
       "      <th>x</th>\n",
       "      <th>y</th>\n",
       "    </tr>\n",
       "  </thead>\n",
       "  <tbody>\n",
       "    <tr>\n",
       "      <th>count</th>\n",
       "      <td>100.00</td>\n",
       "      <td>100.00</td>\n",
       "    </tr>\n",
       "    <tr>\n",
       "      <th>mean</th>\n",
       "      <td>69.34</td>\n",
       "      <td>69.23</td>\n",
       "    </tr>\n",
       "    <tr>\n",
       "      <th>std</th>\n",
       "      <td>2.74</td>\n",
       "      <td>2.74</td>\n",
       "    </tr>\n",
       "    <tr>\n",
       "      <th>min</th>\n",
       "      <td>63.52</td>\n",
       "      <td>62.27</td>\n",
       "    </tr>\n",
       "    <tr>\n",
       "      <th>25%</th>\n",
       "      <td>67.39</td>\n",
       "      <td>67.29</td>\n",
       "    </tr>\n",
       "    <tr>\n",
       "      <th>50%</th>\n",
       "      <td>69.43</td>\n",
       "      <td>69.53</td>\n",
       "    </tr>\n",
       "    <tr>\n",
       "      <th>75%</th>\n",
       "      <td>70.99</td>\n",
       "      <td>71.04</td>\n",
       "    </tr>\n",
       "    <tr>\n",
       "      <th>max</th>\n",
       "      <td>75.76</td>\n",
       "      <td>75.88</td>\n",
       "    </tr>\n",
       "  </tbody>\n",
       "</table>\n",
       "</div>"
      ],
      "text/plain": [
       "           x      y\n",
       "count 100.00 100.00\n",
       "mean   69.34  69.23\n",
       "std     2.74   2.74\n",
       "min    63.52  62.27\n",
       "25%    67.39  67.29\n",
       "50%    69.43  69.53\n",
       "75%    70.99  71.04\n",
       "max    75.76  75.88"
      ]
     },
     "execution_count": 5,
     "metadata": {},
     "output_type": "execute_result"
    }
   ],
   "source": [
    "df.describe(include='all')"
   ]
  },
  {
   "cell_type": "code",
   "execution_count": 6,
   "metadata": {},
   "outputs": [
    {
     "data": {
      "text/plain": [
       "(100, 2)"
      ]
     },
     "execution_count": 6,
     "metadata": {},
     "output_type": "execute_result"
    }
   ],
   "source": [
    "df.shape"
   ]
  },
  {
   "cell_type": "code",
   "execution_count": 7,
   "metadata": {},
   "outputs": [
    {
     "data": {
      "text/plain": [
       "Index(['x', 'y'], dtype='object')"
      ]
     },
     "execution_count": 7,
     "metadata": {},
     "output_type": "execute_result"
    }
   ],
   "source": [
    "df.columns"
   ]
  },
  {
   "cell_type": "markdown",
   "metadata": {},
   "source": [
    "### Train Test Split"
   ]
  },
  {
   "cell_type": "code",
   "execution_count": 8,
   "metadata": {},
   "outputs": [],
   "source": [
    "X = df.x\n",
    "y = df.y"
   ]
  },
  {
   "cell_type": "markdown",
   "metadata": {},
   "source": [
    "### Train Test Split Cont'd"
   ]
  },
  {
   "cell_type": "code",
   "execution_count": 9,
   "metadata": {},
   "outputs": [
    {
     "data": {
      "text/plain": [
       "(array([[68.30297527],\n",
       "        [69.41394554],\n",
       "        [68.19535565],\n",
       "        [72.90761794],\n",
       "        [70.83796327],\n",
       "        [64.2174297 ],\n",
       "        [69.19131661],\n",
       "        [69.55296251],\n",
       "        [69.9196458 ],\n",
       "        [65.68331358],\n",
       "        [73.88132737],\n",
       "        [70.70530953],\n",
       "        [65.23754627],\n",
       "        [64.22208544],\n",
       "        [72.23372737],\n",
       "        [69.47247095],\n",
       "        [69.43792577],\n",
       "        [71.87082836],\n",
       "        [70.39231275],\n",
       "        [70.80899662],\n",
       "        [72.14650944],\n",
       "        [69.01749148],\n",
       "        [69.51559462],\n",
       "        [64.10084748],\n",
       "        [70.76064064],\n",
       "        [67.7851738 ],\n",
       "        [68.70557801],\n",
       "        [65.23532448],\n",
       "        [68.78022043],\n",
       "        [70.57224943],\n",
       "        [72.43971236],\n",
       "        [69.61629138],\n",
       "        [69.2099561 ],\n",
       "        [71.13780153],\n",
       "        [64.96245753],\n",
       "        [70.22648723],\n",
       "        [68.42706884],\n",
       "        [69.63831913],\n",
       "        [72.83609192],\n",
       "        [71.06813392],\n",
       "        [71.4440943 ],\n",
       "        [66.57687208],\n",
       "        [73.30822262],\n",
       "        [71.14154902],\n",
       "        [68.88444037],\n",
       "        [68.28810216],\n",
       "        [66.8164619 ],\n",
       "        [70.97061368],\n",
       "        [70.63756677],\n",
       "        [73.75009333],\n",
       "        [69.35902877],\n",
       "        [67.43774854],\n",
       "        [70.36335752],\n",
       "        [67.45987183],\n",
       "        [74.95429525],\n",
       "        [75.75801831],\n",
       "        [66.54588741],\n",
       "        [67.21915871],\n",
       "        [72.55681528],\n",
       "        [65.84518191],\n",
       "        [74.60193541],\n",
       "        [69.25602213],\n",
       "        [69.20427086],\n",
       "        [67.74311777],\n",
       "        [67.99778413],\n",
       "        [66.18134309],\n",
       "        [64.69312047],\n",
       "        [74.9443652 ],\n",
       "        [69.61476326],\n",
       "        [74.33330319],\n",
       "        [66.7734424 ],\n",
       "        [66.99680151],\n",
       "        [69.9012154 ],\n",
       "        [66.68887257],\n",
       "        [66.24396615],\n",
       "        [69.80928857],\n",
       "        [66.66683452],\n",
       "        [65.89000427],\n",
       "        [67.65205577],\n",
       "        [65.65651706],\n",
       "        [69.36954043],\n",
       "        [67.1729523 ],\n",
       "        [71.7308726 ],\n",
       "        [67.24253238],\n",
       "        [69.76158335],\n",
       "        [70.10316235],\n",
       "        [69.56513343],\n",
       "        [69.35882998],\n",
       "        [70.6066547 ],\n",
       "        [71.08310726],\n",
       "        [67.85614756],\n",
       "        [71.53511494],\n",
       "        [73.11243669],\n",
       "        [69.57364867],\n",
       "        [74.93483843],\n",
       "        [72.02296692],\n",
       "        [63.52157959],\n",
       "        [69.03438396],\n",
       "        [65.20040103],\n",
       "        [68.34168314]]),\n",
       " array([[66.44187524],\n",
       "        [69.54029316],\n",
       "        [65.46259071],\n",
       "        [73.38170426],\n",
       "        [68.87420934],\n",
       "        [69.51929151],\n",
       "        [71.34143904],\n",
       "        [72.2834852 ],\n",
       "        [71.07220187],\n",
       "        [70.72984182],\n",
       "        [71.97411801],\n",
       "        [69.32037534],\n",
       "        [69.53439298],\n",
       "        [62.26999638],\n",
       "        [71.61158514],\n",
       "        [68.29404717],\n",
       "        [68.47794716],\n",
       "        [71.03348845],\n",
       "        [71.87487775],\n",
       "        [70.27700517],\n",
       "        [70.62863705],\n",
       "        [73.04660795],\n",
       "        [68.8718564 ],\n",
       "        [63.56217789],\n",
       "        [70.46006842],\n",
       "        [69.92317272],\n",
       "        [68.48488479],\n",
       "        [65.12242196],\n",
       "        [66.735239  ],\n",
       "        [69.59943862],\n",
       "        [72.62019368],\n",
       "        [67.84960792],\n",
       "        [70.80444468],\n",
       "        [66.58261928],\n",
       "        [65.88213111],\n",
       "        [65.61713776],\n",
       "        [67.52414046],\n",
       "        [68.05347942],\n",
       "        [70.87980758],\n",
       "        [70.89744359],\n",
       "        [65.70101602],\n",
       "        [70.10662201],\n",
       "        [68.31330531],\n",
       "        [69.75095781],\n",
       "        [65.53668006],\n",
       "        [66.03564516],\n",
       "        [73.07796154],\n",
       "        [71.02280054],\n",
       "        [66.77866518],\n",
       "        [68.82827672],\n",
       "        [70.70959007],\n",
       "        [67.38206904],\n",
       "        [69.40915239],\n",
       "        [64.67178538],\n",
       "        [70.49191432],\n",
       "        [72.53244142],\n",
       "        [69.54597382],\n",
       "        [65.35535862],\n",
       "        [68.40353474],\n",
       "        [71.45305378],\n",
       "        [75.87723654],\n",
       "        [68.54008083],\n",
       "        [72.37972   ],\n",
       "        [70.40238572],\n",
       "        [66.14005499],\n",
       "        [72.79965048],\n",
       "        [63.92803938],\n",
       "        [70.67088125],\n",
       "        [69.18156445],\n",
       "        [74.95591821],\n",
       "        [73.69737759],\n",
       "        [67.31420862],\n",
       "        [71.27221182],\n",
       "        [66.45741376],\n",
       "        [65.24196362],\n",
       "        [69.70511049],\n",
       "        [69.02975334],\n",
       "        [72.1157393 ],\n",
       "        [70.73423308],\n",
       "        [69.28024225],\n",
       "        [65.67557016],\n",
       "        [70.12463901],\n",
       "        [72.39064701],\n",
       "        [62.8407823 ],\n",
       "        [71.32465157],\n",
       "        [69.62689853],\n",
       "        [73.95889537],\n",
       "        [67.06058398],\n",
       "        [69.31601944],\n",
       "        [68.30477877],\n",
       "        [67.32483567],\n",
       "        [72.74115028],\n",
       "        [70.91719217],\n",
       "        [72.06476818],\n",
       "        [71.31059007],\n",
       "        [68.87901368],\n",
       "        [67.84505271],\n",
       "        [65.98684157],\n",
       "        [66.43632517],\n",
       "        [67.19845499]]))"
      ]
     },
     "execution_count": 9,
     "metadata": {},
     "output_type": "execute_result"
    }
   ],
   "source": [
    "X.values.reshape(-1,1), y.values.reshape(-1,1)"
   ]
  },
  {
   "cell_type": "code",
   "execution_count": 10,
   "metadata": {},
   "outputs": [],
   "source": [
    "X_train, X_test, y_train, y_test = train_test_split(X.values.reshape(-1,1), y.values.reshape(-1,1), test_size=0.5, random_state=0)"
   ]
  },
  {
   "cell_type": "code",
   "execution_count": 11,
   "metadata": {},
   "outputs": [
    {
     "data": {
      "text/plain": [
       "((50, 1), (50, 1), (50, 1), (50, 1))"
      ]
     },
     "execution_count": 11,
     "metadata": {},
     "output_type": "execute_result"
    }
   ],
   "source": [
    "X_train.shape, X_test.shape, y_train.shape, y_test.shape"
   ]
  },
  {
   "cell_type": "markdown",
   "metadata": {},
   "source": [
    "### Using Regression or Classification Models"
   ]
  },
  {
   "cell_type": "code",
   "execution_count": 12,
   "metadata": {},
   "outputs": [],
   "source": [
    "model1 = LinearRegression()"
   ]
  },
  {
   "cell_type": "code",
   "execution_count": 13,
   "metadata": {},
   "outputs": [
    {
     "data": {
      "text/plain": [
       "LinearRegression()"
      ]
     },
     "execution_count": 13,
     "metadata": {},
     "output_type": "execute_result"
    }
   ],
   "source": [
    "model1.fit(X_train,y_train)"
   ]
  },
  {
   "cell_type": "code",
   "execution_count": 14,
   "metadata": {},
   "outputs": [],
   "source": [
    "y_pred = model1.predict(X_test)"
   ]
  },
  {
   "cell_type": "markdown",
   "metadata": {},
   "source": [
    "### Model Evaluation"
   ]
  },
  {
   "cell_type": "code",
   "execution_count": 15,
   "metadata": {},
   "outputs": [
    {
     "data": {
      "text/plain": [
       "5.467244526530624"
      ]
     },
     "execution_count": 15,
     "metadata": {},
     "output_type": "execute_result"
    }
   ],
   "source": [
    "mse = mean_squared_error(y_test,y_pred)\n",
    "mse"
   ]
  },
  {
   "cell_type": "code",
   "execution_count": 16,
   "metadata": {},
   "outputs": [
    {
     "data": {
      "text/plain": [
       "2.3382139608108203"
      ]
     },
     "execution_count": 16,
     "metadata": {},
     "output_type": "execute_result"
    }
   ],
   "source": [
    "rmse = np.sqrt(mse)\n",
    "rmse"
   ]
  },
  {
   "cell_type": "code",
   "execution_count": 17,
   "metadata": {},
   "outputs": [
    {
     "data": {
      "text/plain": [
       "0.25345036617215255"
      ]
     },
     "execution_count": 17,
     "metadata": {},
     "output_type": "execute_result"
    }
   ],
   "source": [
    "r2score = r2_score(y_test,y_pred)\n",
    "r2score"
   ]
  },
  {
   "cell_type": "code",
   "execution_count": 18,
   "metadata": {},
   "outputs": [
    {
     "data": {
      "image/png": "[encoded data removed]",
      "text/plain": [
       "<Figure size 720x576 with 1 Axes>"
      ]
     },
     "metadata": {},
     "output_type": "display_data"
    }
   ],
   "source": [
    "fig, ax = plt.subplots(figsize=(10,8))\n",
    "sns.regplot(x=y_test, y=y_pred, ax=ax)\n",
    "plt.title(\"Plot to compare actual vs predicted\")\n",
    "plt.ylabel(\"Predicted\")\n",
    "plt.xlabel(\"Actual\")\n",
    "plt.show()"
   ]
  },
  {
   "cell_type": "markdown",
   "metadata": {},
   "source": [
    "Now we will repeat the exercise above but using larger datasets. Write a function that takes a size n, then (1) builds a dataset using the code provided at the top of Q1 but with n observations instead of 100 and without the set.seed(1), (2) runs the replicate() loop that you wrote to answer Q1, which builds 100 linear models and returns a vector of RMSEs, and (3) calculates the mean and standard deviation of the 100 RMSEs.\n",
    "\n",
    "Set the seed to 1 (if using R 3.6 or later, use the argument sample.kind=\"Rounding\") and then use sapply() or map() to apply your new function to n <- c(100, 500, 1000, 5000, 10000)."
   ]
  },
  {
   "cell_type": "markdown",
   "metadata": {},
   "source": [
    "Now repeat the exercise from Q1, this time making the correlation between x and y larger, as in the following code:"
   ]
  },
  {
   "cell_type": "code",
   "execution_count": 19,
   "metadata": {},
   "outputs": [],
   "source": [
    "df = pd.read_csv(\"data2.csv\")"
   ]
  },
  {
   "cell_type": "code",
   "execution_count": 20,
   "metadata": {},
   "outputs": [
    {
     "data": {
      "text/html": [
       "<div>\n",
       "<style scoped>\n",
       "    .dataframe tbody tr th:only-of-type {\n",
       "        vertical-align: middle;\n",
       "    }\n",
       "\n",
       "    .dataframe tbody tr th {\n",
       "        vertical-align: top;\n",
       "    }\n",
       "\n",
       "    .dataframe thead th {\n",
       "        text-align: right;\n",
       "    }\n",
       "</style>\n",
       "<table border=\"1\" class=\"dataframe\">\n",
       "  <thead>\n",
       "    <tr style=\"text-align: right;\">\n",
       "      <th></th>\n",
       "      <th>x</th>\n",
       "      <th>y</th>\n",
       "    </tr>\n",
       "  </thead>\n",
       "  <tbody>\n",
       "    <tr>\n",
       "      <th>0</th>\n",
       "      <td>67.44</td>\n",
       "      <td>66.85</td>\n",
       "    </tr>\n",
       "    <tr>\n",
       "      <th>1</th>\n",
       "      <td>69.52</td>\n",
       "      <td>69.56</td>\n",
       "    </tr>\n",
       "    <tr>\n",
       "      <th>2</th>\n",
       "      <td>66.96</td>\n",
       "      <td>66.09</td>\n",
       "    </tr>\n",
       "    <tr>\n",
       "      <th>3</th>\n",
       "      <td>73.65</td>\n",
       "      <td>73.80</td>\n",
       "    </tr>\n",
       "    <tr>\n",
       "      <th>4</th>\n",
       "      <td>70.29</td>\n",
       "      <td>69.67</td>\n",
       "    </tr>\n",
       "    <tr>\n",
       "      <th>...</th>\n",
       "      <td>...</td>\n",
       "      <td>...</td>\n",
       "    </tr>\n",
       "    <tr>\n",
       "      <th>95</th>\n",
       "      <td>71.15</td>\n",
       "      <td>70.16</td>\n",
       "    </tr>\n",
       "    <tr>\n",
       "      <th>96</th>\n",
       "      <td>64.53</td>\n",
       "      <td>65.90</td>\n",
       "    </tr>\n",
       "    <tr>\n",
       "      <th>97</th>\n",
       "      <td>67.78</td>\n",
       "      <td>66.82</td>\n",
       "    </tr>\n",
       "    <tr>\n",
       "      <th>98</th>\n",
       "      <td>65.18</td>\n",
       "      <td>65.57</td>\n",
       "    </tr>\n",
       "    <tr>\n",
       "      <th>99</th>\n",
       "      <td>67.78</td>\n",
       "      <td>67.42</td>\n",
       "    </tr>\n",
       "  </tbody>\n",
       "</table>\n",
       "<p>100 rows × 2 columns</p>\n",
       "</div>"
      ],
      "text/plain": [
       "       x     y\n",
       "0  67.44 66.85\n",
       "1  69.52 69.56\n",
       "2  66.96 66.09\n",
       "3  73.65 73.80\n",
       "4  70.29 69.67\n",
       "..   ...   ...\n",
       "95 71.15 70.16\n",
       "96 64.53 65.90\n",
       "97 67.78 66.82\n",
       "98 65.18 65.57\n",
       "99 67.78 67.42\n",
       "\n",
       "[100 rows x 2 columns]"
      ]
     },
     "execution_count": 20,
     "metadata": {},
     "output_type": "execute_result"
    }
   ],
   "source": [
    "df"
   ]
  },
  {
   "cell_type": "code",
   "execution_count": 21,
   "metadata": {},
   "outputs": [
    {
     "name": "stdout",
     "output_type": "stream",
     "text": [
      "<class 'pandas.core.frame.DataFrame'>\n",
      "RangeIndex: 100 entries, 0 to 99\n",
      "Data columns (total 2 columns):\n",
      " #   Column  Non-Null Count  Dtype  \n",
      "---  ------  --------------  -----  \n",
      " 0   x       100 non-null    float64\n",
      " 1   y       100 non-null    float64\n",
      "dtypes: float64(2)\n",
      "memory usage: 1.7 KB\n"
     ]
    }
   ],
   "source": [
    "df.info()"
   ]
  },
  {
   "cell_type": "code",
   "execution_count": 22,
   "metadata": {},
   "outputs": [
    {
     "data": {
      "text/html": [
       "<div>\n",
       "<style scoped>\n",
       "    .dataframe tbody tr th:only-of-type {\n",
       "        vertical-align: middle;\n",
       "    }\n",
       "\n",
       "    .dataframe tbody tr th {\n",
       "        vertical-align: top;\n",
       "    }\n",
       "\n",
       "    .dataframe thead th {\n",
       "        text-align: right;\n",
       "    }\n",
       "</style>\n",
       "<table border=\"1\" class=\"dataframe\">\n",
       "  <thead>\n",
       "    <tr style=\"text-align: right;\">\n",
       "      <th></th>\n",
       "      <th>x</th>\n",
       "      <th>y</th>\n",
       "    </tr>\n",
       "  </thead>\n",
       "  <tbody>\n",
       "    <tr>\n",
       "      <th>count</th>\n",
       "      <td>100.00</td>\n",
       "      <td>100.00</td>\n",
       "    </tr>\n",
       "    <tr>\n",
       "      <th>mean</th>\n",
       "      <td>69.34</td>\n",
       "      <td>69.30</td>\n",
       "    </tr>\n",
       "    <tr>\n",
       "      <th>std</th>\n",
       "      <td>2.70</td>\n",
       "      <td>2.70</td>\n",
       "    </tr>\n",
       "    <tr>\n",
       "      <th>min</th>\n",
       "      <td>62.75</td>\n",
       "      <td>62.13</td>\n",
       "    </tr>\n",
       "    <tr>\n",
       "      <th>25%</th>\n",
       "      <td>67.49</td>\n",
       "      <td>67.41</td>\n",
       "    </tr>\n",
       "    <tr>\n",
       "      <th>50%</th>\n",
       "      <td>69.32</td>\n",
       "      <td>69.53</td>\n",
       "    </tr>\n",
       "    <tr>\n",
       "      <th>75%</th>\n",
       "      <td>70.87</td>\n",
       "      <td>71.11</td>\n",
       "    </tr>\n",
       "    <tr>\n",
       "      <th>max</th>\n",
       "      <td>75.91</td>\n",
       "      <td>76.32</td>\n",
       "    </tr>\n",
       "  </tbody>\n",
       "</table>\n",
       "</div>"
      ],
      "text/plain": [
       "           x      y\n",
       "count 100.00 100.00\n",
       "mean   69.34  69.30\n",
       "std     2.70   2.70\n",
       "min    62.75  62.13\n",
       "25%    67.49  67.41\n",
       "50%    69.32  69.53\n",
       "75%    70.87  71.11\n",
       "max    75.91  76.32"
      ]
     },
     "execution_count": 22,
     "metadata": {},
     "output_type": "execute_result"
    }
   ],
   "source": [
    "df.describe(include='all')"
   ]
  },
  {
   "cell_type": "code",
   "execution_count": 23,
   "metadata": {},
   "outputs": [
    {
     "data": {
      "text/plain": [
       "(100, 2)"
      ]
     },
     "execution_count": 23,
     "metadata": {},
     "output_type": "execute_result"
    }
   ],
   "source": [
    "df.shape"
   ]
  },
  {
   "cell_type": "code",
   "execution_count": 24,
   "metadata": {},
   "outputs": [
    {
     "data": {
      "text/plain": [
       "Index(['x', 'y'], dtype='object')"
      ]
     },
     "execution_count": 24,
     "metadata": {},
     "output_type": "execute_result"
    }
   ],
   "source": [
    "df.columns"
   ]
  },
  {
   "cell_type": "markdown",
   "metadata": {},
   "source": [
    "### Train Test Split"
   ]
  },
  {
   "cell_type": "code",
   "execution_count": 25,
   "metadata": {},
   "outputs": [],
   "source": [
    "X = df.x\n",
    "y = df.y"
   ]
  },
  {
   "cell_type": "markdown",
   "metadata": {},
   "source": [
    "### Train Test Split Cont'd"
   ]
  },
  {
   "cell_type": "code",
   "execution_count": 26,
   "metadata": {},
   "outputs": [
    {
     "data": {
      "text/plain": [
       "(array([[67.43854503],\n",
       "        [69.52402245],\n",
       "        [66.95673665],\n",
       "        [73.65068111],\n",
       "        [70.28658532],\n",
       "        [65.73125919],\n",
       "        [70.10392867],\n",
       "        [70.75537815],\n",
       "        [70.52338048],\n",
       "        [67.29743321],\n",
       "        [73.77984917],\n",
       "        [70.37379538],\n",
       "        [66.48033111],\n",
       "        [62.74812963],\n",
       "        [72.43071017],\n",
       "        [69.05322001],\n",
       "        [69.10382613],\n",
       "        [71.92828582],\n",
       "        [71.19825876],\n",
       "        [70.84340693],\n",
       "        [71.96224904],\n",
       "        [70.6798339 ],\n",
       "        [69.32266502],\n",
       "        [63.19218892],\n",
       "        [70.8836113 ],\n",
       "        [68.49568462],\n",
       "        [68.57338745],\n",
       "        [64.6610966 ],\n",
       "        [67.90693391],\n",
       "        [70.39186757],\n",
       "        [72.99622908],\n",
       "        [68.97485294],\n",
       "        [69.89627435],\n",
       "        [69.56085289],\n",
       "        [64.77537475],\n",
       "        [68.49947925],\n",
       "        [67.97477511],\n",
       "        [69.0748833 ],\n",
       "        [72.56787979],\n",
       "        [71.28771553],\n",
       "        [69.4206983 ],\n",
       "        [67.69137369],\n",
       "        [71.85435435],\n",
       "        [70.86885438],\n",
       "        [67.48905211],\n",
       "        [67.26035825],\n",
       "        [69.08995751],\n",
       "        [71.26834491],\n",
       "        [69.27734693],\n",
       "        [72.38828004],\n",
       "        [69.96575169],\n",
       "        [67.19582078],\n",
       "        [70.1613592 ],\n",
       "        [66.09536506],\n",
       "        [73.95055696],\n",
       "        [75.37647314],\n",
       "        [67.43783822],\n",
       "        [66.20169166],\n",
       "        [71.34435049],\n",
       "        [67.7132504 ],\n",
       "        [75.91257977],\n",
       "        [68.99696106],\n",
       "        [70.54110656],\n",
       "        [68.66248257],\n",
       "        [67.0919623 ],\n",
       "        [68.5128061 ],\n",
       "        [63.77420841],\n",
       "        [74.01705557],\n",
       "        [69.52247138],\n",
       "        [75.33740232],\n",
       "        [69.31381384],\n",
       "        [66.84676574],\n",
       "        [70.5923583 ],\n",
       "        [66.26955433],\n",
       "        [65.44483911],\n",
       "        [69.8798123 ],\n",
       "        [67.31324277],\n",
       "        [68.0188992 ],\n",
       "        [68.7328835 ],\n",
       "        [66.68072286],\n",
       "        [67.89952184],\n",
       "        [68.13286279],\n",
       "        [72.38548361],\n",
       "        [65.18277277],\n",
       "        [70.51228182],\n",
       "        [70.06159037],\n",
       "        [71.45446618],\n",
       "        [68.46231192],\n",
       "        [70.30016025],\n",
       "        [70.23050908],\n",
       "        [67.47692096],\n",
       "        [72.38733076],\n",
       "        [72.78451596],\n",
       "        [70.68033616],\n",
       "        [74.27366145],\n",
       "        [71.15148613],\n",
       "        [64.53479746],\n",
       "        [67.78369604],\n",
       "        [65.17695903],\n",
       "        [67.77842322]]),\n",
       " array([[66.85001352],\n",
       "        [69.56397707],\n",
       "        [66.0925605 ],\n",
       "        [73.80060036],\n",
       "        [69.66559181],\n",
       "        [67.40785511],\n",
       "        [70.78385708],\n",
       "        [71.61884524],\n",
       "        [70.88785071],\n",
       "        [68.89328556],\n",
       "        [73.17673661],\n",
       "        [69.93584074],\n",
       "        [67.83911335],\n",
       "        [62.13082486],\n",
       "        [72.23397152],\n",
       "        [68.68056969],\n",
       "        [68.80025424],\n",
       "        [71.66349569],\n",
       "        [71.66708698],\n",
       "        [70.67517647],\n",
       "        [71.48225565],\n",
       "        [71.9539524 ],\n",
       "        [69.11909711],\n",
       "        [63.02184664],\n",
       "        [70.78856202],\n",
       "        [69.17177924],\n",
       "        [68.50359813],\n",
       "        [64.62539369],\n",
       "        [67.260254  ],\n",
       "        [70.08423778],\n",
       "        [73.05330229],\n",
       "        [68.41617857],\n",
       "        [70.40049592],\n",
       "        [68.12037779],\n",
       "        [65.06620107],\n",
       "        [67.04187496],\n",
       "        [67.68924409],\n",
       "        [68.57371298],\n",
       "        [71.94924836],\n",
       "        [71.2337385 ],\n",
       "        [67.60457749],\n",
       "        [68.80757863],\n",
       "        [70.2748228 ],\n",
       "        [70.42911083],\n",
       "        [66.43039735],\n",
       "        [66.5480688 ],\n",
       "        [71.07001755],\n",
       "        [71.28484784],\n",
       "        [68.0570551 ],\n",
       "        [70.83186497],\n",
       "        [70.39283667],\n",
       "        [67.17821337],\n",
       "        [69.85961304],\n",
       "        [65.21369471],\n",
       "        [72.53942821],\n",
       "        [74.35645616],\n",
       "        [68.38654885],\n",
       "        [65.61230633],\n",
       "        [70.03096786],\n",
       "        [69.48661519],\n",
       "        [76.3158654 ],\n",
       "        [68.77056055],\n",
       "        [71.54527175],\n",
       "        [69.50341693],\n",
       "        [66.50449677],\n",
       "        [70.60569866],\n",
       "        [63.53226853],\n",
       "        [72.66566128],\n",
       "        [69.38548189],\n",
       "        [75.53429048],\n",
       "        [71.5033544 ],\n",
       "        [66.94713867],\n",
       "        [71.02590543],\n",
       "        [66.19636062],\n",
       "        [65.12797809],\n",
       "        [69.8468683 ],\n",
       "        [68.06046331],\n",
       "        [69.98764948],\n",
       "        [69.70755355],\n",
       "        [67.82664538],\n",
       "        [66.73138587],\n",
       "        [69.06626808],\n",
       "        [72.5941226 ],\n",
       "        [63.79081718],\n",
       "        [71.00656739],\n",
       "        [69.91098253],\n",
       "        [72.8438957 ],\n",
       "        [67.73554273],\n",
       "        [69.89202555],\n",
       "        [69.35192447],\n",
       "        [67.30890539],\n",
       "        [72.76871262],\n",
       "        [72.09031869],\n",
       "        [71.46809732],\n",
       "        [73.12757349],\n",
       "        [70.15728082],\n",
       "        [65.90199971],\n",
       "        [66.81997851],\n",
       "        [65.56779256],\n",
       "        [67.41690273]]))"
      ]
     },
     "execution_count": 26,
     "metadata": {},
     "output_type": "execute_result"
    }
   ],
   "source": [
    "X.values.reshape(-1,1), y.values.reshape(-1,1)"
   ]
  },
  {
   "cell_type": "code",
   "execution_count": 27,
   "metadata": {},
   "outputs": [],
   "source": [
    "X_train, X_test, y_train, y_test = train_test_split(X.values.reshape(-1,1), y.values.reshape(-1,1), test_size=0.5, random_state=0)"
   ]
  },
  {
   "cell_type": "code",
   "execution_count": 28,
   "metadata": {},
   "outputs": [
    {
     "data": {
      "text/plain": [
       "((50, 1), (50, 1), (50, 1), (50, 1))"
      ]
     },
     "execution_count": 28,
     "metadata": {},
     "output_type": "execute_result"
    }
   ],
   "source": [
    "X_train.shape, X_test.shape, y_train.shape, y_test.shape"
   ]
  },
  {
   "cell_type": "markdown",
   "metadata": {},
   "source": [
    "### Using Regression or Classification Models"
   ]
  },
  {
   "cell_type": "code",
   "execution_count": 29,
   "metadata": {},
   "outputs": [],
   "source": [
    "model2 = LinearRegression()"
   ]
  },
  {
   "cell_type": "code",
   "execution_count": 30,
   "metadata": {},
   "outputs": [
    {
     "data": {
      "text/plain": [
       "LinearRegression()"
      ]
     },
     "execution_count": 30,
     "metadata": {},
     "output_type": "execute_result"
    }
   ],
   "source": [
    "model2.fit(X_train,y_train)"
   ]
  },
  {
   "cell_type": "code",
   "execution_count": 31,
   "metadata": {},
   "outputs": [],
   "source": [
    "y_pred = model2.predict(X_test)"
   ]
  },
  {
   "cell_type": "markdown",
   "metadata": {},
   "source": [
    "### Model Evaluation"
   ]
  },
  {
   "cell_type": "code",
   "execution_count": 32,
   "metadata": {},
   "outputs": [
    {
     "data": {
      "text/plain": [
       "0.6581164565300793"
      ]
     },
     "execution_count": 32,
     "metadata": {},
     "output_type": "execute_result"
    }
   ],
   "source": [
    "mse = mean_squared_error(y_test,y_pred)\n",
    "mse"
   ]
  },
  {
   "cell_type": "code",
   "execution_count": 33,
   "metadata": {},
   "outputs": [
    {
     "data": {
      "text/plain": [
       "0.8112437713351514"
      ]
     },
     "execution_count": 33,
     "metadata": {},
     "output_type": "execute_result"
    }
   ],
   "source": [
    "rmse = np.sqrt(mse)\n",
    "rmse"
   ]
  },
  {
   "cell_type": "code",
   "execution_count": 34,
   "metadata": {},
   "outputs": [
    {
     "data": {
      "text/plain": [
       "0.910283051335392"
      ]
     },
     "execution_count": 34,
     "metadata": {},
     "output_type": "execute_result"
    }
   ],
   "source": [
    "r2score = r2_score(y_test,y_pred)\n",
    "r2score"
   ]
  },
  {
   "cell_type": "code",
   "execution_count": 35,
   "metadata": {},
   "outputs": [
    {
     "data": {
      "image/png": "[encoded data removed]",
      "text/plain": [
       "<Figure size 720x576 with 1 Axes>"
      ]
     },
     "metadata": {},
     "output_type": "display_data"
    }
   ],
   "source": [
    "fig, ax = plt.subplots(figsize=(10,8))\n",
    "sns.regplot(x=y_test, y=y_pred, ax=ax)\n",
    "plt.title(\"Plot to compare actual vs predicted\")\n",
    "plt.ylabel(\"Predicted\")\n",
    "plt.xlabel(\"Actual\")\n",
    "plt.show()"
   ]
  },
  {
   "cell_type": "markdown",
   "metadata": {},
   "source": [
    "Create a data set using the following code.\n",
    "\n",
    "Note that y is correlated with both x_1 and x_2 but the two predictors are independent of each other, as seen by cor(dat).\n",
    "\n",
    "Set the seed to 1, then use the caret package to partition into test and training sets with p = 0.5. Compare the RMSE when using just x_1, just x_2 and both x_1 and x_2. Train a single linear model for each (not 100 like in the previous questions)."
   ]
  },
  {
   "cell_type": "code",
   "execution_count": 36,
   "metadata": {},
   "outputs": [],
   "source": [
    "df = pd.read_csv(\"data3.csv\")"
   ]
  },
  {
   "cell_type": "code",
   "execution_count": 37,
   "metadata": {},
   "outputs": [
    {
     "data": {
      "text/html": [
       "<div>\n",
       "<style scoped>\n",
       "    .dataframe tbody tr th:only-of-type {\n",
       "        vertical-align: middle;\n",
       "    }\n",
       "\n",
       "    .dataframe tbody tr th {\n",
       "        vertical-align: top;\n",
       "    }\n",
       "\n",
       "    .dataframe thead th {\n",
       "        text-align: right;\n",
       "    }\n",
       "</style>\n",
       "<table border=\"1\" class=\"dataframe\">\n",
       "  <thead>\n",
       "    <tr style=\"text-align: right;\">\n",
       "      <th></th>\n",
       "      <th>y</th>\n",
       "      <th>x_1</th>\n",
       "      <th>x_2</th>\n",
       "    </tr>\n",
       "  </thead>\n",
       "  <tbody>\n",
       "    <tr>\n",
       "      <th>0</th>\n",
       "      <td>-0.54</td>\n",
       "      <td>-0.16</td>\n",
       "      <td>-0.92</td>\n",
       "    </tr>\n",
       "    <tr>\n",
       "      <th>1</th>\n",
       "      <td>0.48</td>\n",
       "      <td>-0.07</td>\n",
       "      <td>-0.02</td>\n",
       "    </tr>\n",
       "    <tr>\n",
       "      <th>2</th>\n",
       "      <td>-0.54</td>\n",
       "      <td>-0.27</td>\n",
       "      <td>-1.39</td>\n",
       "    </tr>\n",
       "    <tr>\n",
       "      <th>3</th>\n",
       "      <td>1.51</td>\n",
       "      <td>1.19</td>\n",
       "      <td>1.38</td>\n",
       "    </tr>\n",
       "    <tr>\n",
       "      <th>4</th>\n",
       "      <td>-0.08</td>\n",
       "      <td>0.92</td>\n",
       "      <td>0.11</td>\n",
       "    </tr>\n",
       "    <tr>\n",
       "      <th>...</th>\n",
       "      <td>...</td>\n",
       "      <td>...</td>\n",
       "      <td>...</td>\n",
       "    </tr>\n",
       "    <tr>\n",
       "      <th>95</th>\n",
       "      <td>0.57</td>\n",
       "      <td>1.06</td>\n",
       "      <td>-0.22</td>\n",
       "    </tr>\n",
       "    <tr>\n",
       "      <th>96</th>\n",
       "      <td>-1.12</td>\n",
       "      <td>-1.97</td>\n",
       "      <td>-0.20</td>\n",
       "    </tr>\n",
       "    <tr>\n",
       "      <th>97</th>\n",
       "      <td>-0.39</td>\n",
       "      <td>0.07</td>\n",
       "      <td>-1.18</td>\n",
       "    </tr>\n",
       "    <tr>\n",
       "      <th>98</th>\n",
       "      <td>-1.21</td>\n",
       "      <td>-1.20</td>\n",
       "      <td>-0.70</td>\n",
       "    </tr>\n",
       "    <tr>\n",
       "      <th>99</th>\n",
       "      <td>-0.52</td>\n",
       "      <td>-0.10</td>\n",
       "      <td>-0.57</td>\n",
       "    </tr>\n",
       "  </tbody>\n",
       "</table>\n",
       "<p>100 rows × 3 columns</p>\n",
       "</div>"
      ],
      "text/plain": [
       "       y   x_1   x_2\n",
       "0  -0.54 -0.16 -0.92\n",
       "1   0.48 -0.07 -0.02\n",
       "2  -0.54 -0.27 -1.39\n",
       "3   1.51  1.19  1.38\n",
       "4  -0.08  0.92  0.11\n",
       "..   ...   ...   ...\n",
       "95  0.57  1.06 -0.22\n",
       "96 -1.12 -1.97 -0.20\n",
       "97 -0.39  0.07 -1.18\n",
       "98 -1.21 -1.20 -0.70\n",
       "99 -0.52 -0.10 -0.57\n",
       "\n",
       "[100 rows x 3 columns]"
      ]
     },
     "execution_count": 37,
     "metadata": {},
     "output_type": "execute_result"
    }
   ],
   "source": [
    "df"
   ]
  },
  {
   "cell_type": "code",
   "execution_count": 38,
   "metadata": {},
   "outputs": [
    {
     "name": "stdout",
     "output_type": "stream",
     "text": [
      "<class 'pandas.core.frame.DataFrame'>\n",
      "RangeIndex: 100 entries, 0 to 99\n",
      "Data columns (total 3 columns):\n",
      " #   Column  Non-Null Count  Dtype  \n",
      "---  ------  --------------  -----  \n",
      " 0   y       100 non-null    float64\n",
      " 1   x_1     100 non-null    float64\n",
      " 2   x_2     100 non-null    float64\n",
      "dtypes: float64(3)\n",
      "memory usage: 2.5 KB\n"
     ]
    }
   ],
   "source": [
    "df.info()"
   ]
  },
  {
   "cell_type": "code",
   "execution_count": 39,
   "metadata": {},
   "outputs": [
    {
     "data": {
      "text/html": [
       "<div>\n",
       "<style scoped>\n",
       "    .dataframe tbody tr th:only-of-type {\n",
       "        vertical-align: middle;\n",
       "    }\n",
       "\n",
       "    .dataframe tbody tr th {\n",
       "        vertical-align: top;\n",
       "    }\n",
       "\n",
       "    .dataframe thead th {\n",
       "        text-align: right;\n",
       "    }\n",
       "</style>\n",
       "<table border=\"1\" class=\"dataframe\">\n",
       "  <thead>\n",
       "    <tr style=\"text-align: right;\">\n",
       "      <th></th>\n",
       "      <th>y</th>\n",
       "      <th>x_1</th>\n",
       "      <th>x_2</th>\n",
       "    </tr>\n",
       "  </thead>\n",
       "  <tbody>\n",
       "    <tr>\n",
       "      <th>count</th>\n",
       "      <td>100.00</td>\n",
       "      <td>100.00</td>\n",
       "      <td>100.00</td>\n",
       "    </tr>\n",
       "    <tr>\n",
       "      <th>mean</th>\n",
       "      <td>0.11</td>\n",
       "      <td>0.11</td>\n",
       "      <td>0.06</td>\n",
       "    </tr>\n",
       "    <tr>\n",
       "      <th>std</th>\n",
       "      <td>0.91</td>\n",
       "      <td>0.92</td>\n",
       "      <td>0.92</td>\n",
       "    </tr>\n",
       "    <tr>\n",
       "      <th>min</th>\n",
       "      <td>-2.42</td>\n",
       "      <td>-2.00</td>\n",
       "      <td>-2.01</td>\n",
       "    </tr>\n",
       "    <tr>\n",
       "      <th>25%</th>\n",
       "      <td>-0.44</td>\n",
       "      <td>-0.53</td>\n",
       "      <td>-0.56</td>\n",
       "    </tr>\n",
       "    <tr>\n",
       "      <th>50%</th>\n",
       "      <td>0.16</td>\n",
       "      <td>0.12</td>\n",
       "      <td>0.12</td>\n",
       "    </tr>\n",
       "    <tr>\n",
       "      <th>75%</th>\n",
       "      <td>0.61</td>\n",
       "      <td>0.66</td>\n",
       "      <td>0.70</td>\n",
       "    </tr>\n",
       "    <tr>\n",
       "      <th>max</th>\n",
       "      <td>2.53</td>\n",
       "      <td>2.15</td>\n",
       "      <td>2.03</td>\n",
       "    </tr>\n",
       "  </tbody>\n",
       "</table>\n",
       "</div>"
      ],
      "text/plain": [
       "           y    x_1    x_2\n",
       "count 100.00 100.00 100.00\n",
       "mean    0.11   0.11   0.06\n",
       "std     0.91   0.92   0.92\n",
       "min    -2.42  -2.00  -2.01\n",
       "25%    -0.44  -0.53  -0.56\n",
       "50%     0.16   0.12   0.12\n",
       "75%     0.61   0.66   0.70\n",
       "max     2.53   2.15   2.03"
      ]
     },
     "execution_count": 39,
     "metadata": {},
     "output_type": "execute_result"
    }
   ],
   "source": [
    "df.describe(include='all')"
   ]
  },
  {
   "cell_type": "code",
   "execution_count": 40,
   "metadata": {},
   "outputs": [
    {
     "data": {
      "text/plain": [
       "(100, 3)"
      ]
     },
     "execution_count": 40,
     "metadata": {},
     "output_type": "execute_result"
    }
   ],
   "source": [
    "df.shape"
   ]
  },
  {
   "cell_type": "code",
   "execution_count": 41,
   "metadata": {},
   "outputs": [
    {
     "data": {
      "text/plain": [
       "Index(['y', 'x_1', 'x_2'], dtype='object')"
      ]
     },
     "execution_count": 41,
     "metadata": {},
     "output_type": "execute_result"
    }
   ],
   "source": [
    "df.columns"
   ]
  },
  {
   "cell_type": "markdown",
   "metadata": {},
   "source": [
    "### Train Test Split"
   ]
  },
  {
   "cell_type": "code",
   "execution_count": 42,
   "metadata": {},
   "outputs": [],
   "source": [
    "X = df[[\"x_1\",\"x_2\"]]\n",
    "y = df.y"
   ]
  },
  {
   "cell_type": "markdown",
   "metadata": {},
   "source": [
    "### Train Test Split Cont'd"
   ]
  },
  {
   "cell_type": "code",
   "execution_count": 43,
   "metadata": {},
   "outputs": [
    {
     "data": {
      "text/plain": [
       "(array([[-0.15627188, -0.91606278],\n",
       "        [-0.07151714, -0.01993594],\n",
       "        [-0.27408299, -1.38972961],\n",
       "        [ 1.18876647,  1.38231139],\n",
       "        [ 0.91504731,  0.11334813],\n",
       "        [-2.00447523,  0.16000079],\n",
       "        [-0.13226855,  0.74551525],\n",
       "        [-0.04029441,  1.07443681],\n",
       "        [ 0.2168285 ,  0.68735754],\n",
       "        [-1.32632522,  0.73391131],\n",
       "        [ 1.59082213,  0.81220717],\n",
       "        [ 0.54058943, -0.02480758],\n",
       "        [-1.31835966,  0.43582066],\n",
       "        [-1.18099628, -1.9779333 ],\n",
       "        [ 0.89652737,  0.64253887],\n",
       "        [ 0.03491152, -0.44617798],\n",
       "        [ 0.21791614, -0.17399349],\n",
       "        [ 1.05012172,  0.70827914],\n",
       "        [ 0.26799681,  0.87325144],\n",
       "        [ 0.57837748,  0.36119288],\n",
       "        [ 1.22341451,  0.60374571],\n",
       "        [-0.21060161,  1.4342783 ],\n",
       "        [ 0.26045559, -0.00234944],\n",
       "        [-1.40860783, -1.62851877],\n",
       "        [ 0.6761444 ,  0.5534363 ],\n",
       "        [-0.68259998,  0.19023442],\n",
       "        [-0.03972928, -0.12982691],\n",
       "        [-0.94783248, -0.99392474],\n",
       "        [ 0.0211244 , -0.81373577],\n",
       "        [ 0.49612292,  0.09897457],\n",
       "        [ 1.13700308,  1.21068427],\n",
       "        [ 0.60423362, -0.11701188],\n",
       "        [ 0.04974978,  0.70069701],\n",
       "        [ 0.82372268, -1.03592268],\n",
       "        [-1.25867581, -0.88322064],\n",
       "        [ 0.62712935, -1.25462969],\n",
       "        [-0.18715768, -0.55577665],\n",
       "        [ 0.4101719 , -0.23683621],\n",
       "        [ 1.13714798,  0.33849824],\n",
       "        [ 0.63268094,  0.56299691],\n",
       "        [ 0.9642106 , -1.38039128],\n",
       "        [-1.03477642,  0.40623795],\n",
       "        [ 1.53993906, -0.4992274 ],\n",
       "        [ 0.81804636,  0.25033988],\n",
       "        [ 0.01390875, -1.35280868],\n",
       "        [ 0.13047348, -0.78908824],\n",
       "        [-0.9317028 ,  1.62454372],\n",
       "        [ 0.61945779,  0.64076298],\n",
       "        [ 0.71840982, -0.85698016],\n",
       "        [ 1.57972607, -0.42959715],\n",
       "        [ 0.02058411,  0.57194845],\n",
       "        [-0.5132607 , -0.53599176],\n",
       "        [ 0.46953997,  0.07998736],\n",
       "        [-0.286911  , -1.42514253],\n",
       "        [ 1.95430322,  0.13254384],\n",
       "        [ 2.07965019,  0.76281394],\n",
       "        [-0.6302123 ,  0.59456785],\n",
       "        [-0.50090733, -1.26180053],\n",
       "        [ 1.25159835, -0.44397133],\n",
       "        [-1.20268973,  1.08671437],\n",
       "        [ 1.51244263,  2.03308214],\n",
       "        [ 0.15909345, -0.13318836],\n",
       "        [-0.07652226,  1.21984943],\n",
       "        [-0.61708258,  0.46855902],\n",
       "        [-0.39534718, -1.15376192],\n",
       "        [-1.23350489,  1.46840779],\n",
       "        [-1.20898112, -1.52132417],\n",
       "        [ 2.15260511,  0.40796259],\n",
       "        [ 0.24548991,  0.06863724],\n",
       "        [ 1.67855337,  1.93273489],\n",
       "        [-1.0121778 ,  1.81450691],\n",
       "        [-0.66461163, -0.53503072],\n",
       "        [ 0.29363611,  0.85334305],\n",
       "        [-0.9809082 , -1.07540086],\n",
       "        [-0.79402449, -1.2030903 ],\n",
       "        [ 0.12256764,  0.08003711],\n",
       "        [-0.57246577,  0.3921918 ],\n",
       "        [-1.35307576,  1.18856992],\n",
       "        [-0.42332648,  0.83496714],\n",
       "        [-1.3042062 ,  0.17517342],\n",
       "        [ 0.26434648, -1.24371056],\n",
       "        [-0.66258505,  0.54243601],\n",
       "        [ 0.63871946,  0.90807123],\n",
       "        [-0.21513927, -2.01214622],\n",
       "        [ 0.21087269,  0.84899262],\n",
       "        [ 0.47006442,  0.27563053],\n",
       "        [ 0.01002804,  1.80377384],\n",
       "        [ 0.12506068, -0.81319432],\n",
       "        [ 0.50436767, -0.02253197],\n",
       "        [ 0.6633993 , -0.47084856],\n",
       "        [-0.27234753, -0.4892547 ],\n",
       "        [ 0.65684445,  1.14920632],\n",
       "        [ 1.32881234,  0.43260752],\n",
       "        [ 0.19945249,  1.21644777],\n",
       "        [ 1.78212099,  0.30252779],\n",
       "        [ 1.06373129, -0.21978225],\n",
       "        [-1.96742683, -0.20237632],\n",
       "        [ 0.06631842, -1.17783556],\n",
       "        [-1.20495678, -0.70039286],\n",
       "        [-0.10280606, -0.569527  ]]),\n",
       " array([-0.54335401,  0.48203339, -0.53913301,  1.51064005, -0.08352236,\n",
       "        -0.361658  ,  0.5986287 ,  0.82306344,  0.5641513 , -0.20947199,\n",
       "         1.45819372,  0.45865   , -0.68268582, -2.42364089,  1.28313462,\n",
       "         0.22694763, -0.07101744,  0.70507301,  0.92263529,  0.57639409,\n",
       "         0.59498189,  0.76996617, -0.03909273, -2.01826692,  0.40351855,\n",
       "         0.26649717, -0.21237771, -1.73361545, -0.43529324,  0.45819214,\n",
       "         1.16098163, -0.61659346,  0.26717304,  0.04885105, -1.36561875,\n",
       "        -0.4258529 , -0.28789867, -0.27005528,  1.2780661 ,  0.74997598,\n",
       "        -0.03568181, -0.06478565,  0.72565404,  0.3909475 , -0.47020189,\n",
       "        -1.05302141,  0.26152753,  0.7105827 , -0.14018357,  1.04904515,\n",
       "         0.41602306, -0.52955674,  0.32321778, -1.15543029,  1.53413228,\n",
       "         2.15313708, -0.79010085, -0.92518903,  0.62743778, -0.20876577,\n",
       "         2.5327646 , -0.10805991,  0.62793985,  0.180536  , -0.42452215,\n",
       "         0.23394735, -1.85132355,  1.2298706 ,  0.09172967,  1.9700601 ,\n",
       "         0.42167929, -0.62818728,  0.44893393, -0.4464316 , -1.20568068,\n",
       "         0.48842657, -0.84461511,  0.1333006 , -0.16170238, -0.41594544,\n",
       "        -0.48850732, -0.20572269,  1.39546347, -1.62423609,  0.48081947,\n",
       "         0.14899159,  0.92682122, -0.13065841,  0.44146454,  0.44215814,\n",
       "        -0.60342136,  1.25563961,  1.18534735,  0.43449802,  1.87868631,\n",
       "         0.5735135 , -1.11950558, -0.39364646, -1.2139841 , -0.52036929]))"
      ]
     },
     "execution_count": 43,
     "metadata": {},
     "output_type": "execute_result"
    }
   ],
   "source": [
    "X.values, y.values"
   ]
  },
  {
   "cell_type": "code",
   "execution_count": 44,
   "metadata": {},
   "outputs": [],
   "source": [
    "X_train, X_test, y_train, y_test = train_test_split(X.values, y.values, test_size=0.5, random_state=0)"
   ]
  },
  {
   "cell_type": "code",
   "execution_count": 45,
   "metadata": {},
   "outputs": [
    {
     "data": {
      "text/plain": [
       "((50, 2), (50, 2), (50,), (50,))"
      ]
     },
     "execution_count": 45,
     "metadata": {},
     "output_type": "execute_result"
    }
   ],
   "source": [
    "X_train.shape, X_test.shape, y_train.shape, y_test.shape"
   ]
  },
  {
   "cell_type": "markdown",
   "metadata": {},
   "source": [
    "### Using Regression or Classification Models"
   ]
  },
  {
   "cell_type": "code",
   "execution_count": 46,
   "metadata": {},
   "outputs": [],
   "source": [
    "model3 = LinearRegression()"
   ]
  },
  {
   "cell_type": "code",
   "execution_count": 47,
   "metadata": {},
   "outputs": [
    {
     "data": {
      "text/plain": [
       "LinearRegression()"
      ]
     },
     "execution_count": 47,
     "metadata": {},
     "output_type": "execute_result"
    }
   ],
   "source": [
    "model3.fit(X_train,y_train)"
   ]
  },
  {
   "cell_type": "code",
   "execution_count": 48,
   "metadata": {},
   "outputs": [],
   "source": [
    "y_pred = model3.predict(X_test)"
   ]
  },
  {
   "cell_type": "markdown",
   "metadata": {},
   "source": [
    "### Model Evaluation"
   ]
  },
  {
   "cell_type": "code",
   "execution_count": 49,
   "metadata": {},
   "outputs": [
    {
     "data": {
      "text/plain": [
       "0.1379773508719314"
      ]
     },
     "execution_count": 49,
     "metadata": {},
     "output_type": "execute_result"
    }
   ],
   "source": [
    "mse = mean_squared_error(y_test,y_pred)\n",
    "mse"
   ]
  },
  {
   "cell_type": "code",
   "execution_count": 50,
   "metadata": {},
   "outputs": [
    {
     "data": {
      "text/plain": [
       "0.37145302646758904"
      ]
     },
     "execution_count": 50,
     "metadata": {},
     "output_type": "execute_result"
    }
   ],
   "source": [
    "rmse = np.sqrt(mse)\n",
    "rmse"
   ]
  },
  {
   "cell_type": "code",
   "execution_count": 51,
   "metadata": {},
   "outputs": [
    {
     "data": {
      "text/plain": [
       "0.8399837701986"
      ]
     },
     "execution_count": 51,
     "metadata": {},
     "output_type": "execute_result"
    }
   ],
   "source": [
    "r2score = r2_score(y_test,y_pred)\n",
    "r2score"
   ]
  },
  {
   "cell_type": "code",
   "execution_count": 52,
   "metadata": {},
   "outputs": [
    {
     "data": {
      "image/png": "[encoded data removed]",
      "text/plain": [
       "<Figure size 720x576 with 1 Axes>"
      ]
     },
     "metadata": {},
     "output_type": "display_data"
    }
   ],
   "source": [
    "fig, ax = plt.subplots(figsize=(10,8))\n",
    "sns.regplot(x=y_test, y=y_pred, ax=ax)\n",
    "plt.title(\"Plot to compare actual vs predicted\")\n",
    "plt.ylabel(\"Predicted\")\n",
    "plt.xlabel(\"Actual\")\n",
    "plt.show()"
   ]
  },
  {
   "cell_type": "markdown",
   "metadata": {},
   "source": [
    "Repeat the exercise from Q6 but now create an example in which x_1 and x_2 are highly correlated."
   ]
  },
  {
   "cell_type": "code",
   "execution_count": 53,
   "metadata": {},
   "outputs": [],
   "source": [
    "df = pd.read_csv(\"data4.csv\")"
   ]
  },
  {
   "cell_type": "code",
   "execution_count": 54,
   "metadata": {},
   "outputs": [
    {
     "data": {
      "text/html": [
       "<div>\n",
       "<style scoped>\n",
       "    .dataframe tbody tr th:only-of-type {\n",
       "        vertical-align: middle;\n",
       "    }\n",
       "\n",
       "    .dataframe tbody tr th {\n",
       "        vertical-align: top;\n",
       "    }\n",
       "\n",
       "    .dataframe thead th {\n",
       "        text-align: right;\n",
       "    }\n",
       "</style>\n",
       "<table border=\"1\" class=\"dataframe\">\n",
       "  <thead>\n",
       "    <tr style=\"text-align: right;\">\n",
       "      <th></th>\n",
       "      <th>y</th>\n",
       "      <th>x_1</th>\n",
       "      <th>x_2</th>\n",
       "    </tr>\n",
       "  </thead>\n",
       "  <tbody>\n",
       "    <tr>\n",
       "      <th>0</th>\n",
       "      <td>0.26</td>\n",
       "      <td>0.67</td>\n",
       "      <td>0.80</td>\n",
       "    </tr>\n",
       "    <tr>\n",
       "      <th>1</th>\n",
       "      <td>-0.14</td>\n",
       "      <td>-0.45</td>\n",
       "      <td>0.08</td>\n",
       "    </tr>\n",
       "    <tr>\n",
       "      <th>2</th>\n",
       "      <td>0.31</td>\n",
       "      <td>0.75</td>\n",
       "      <td>1.25</td>\n",
       "    </tr>\n",
       "    <tr>\n",
       "      <th>3</th>\n",
       "      <td>-1.33</td>\n",
       "      <td>-1.52</td>\n",
       "      <td>-1.62</td>\n",
       "    </tr>\n",
       "    <tr>\n",
       "      <th>4</th>\n",
       "      <td>-0.60</td>\n",
       "      <td>0.18</td>\n",
       "      <td>-0.54</td>\n",
       "    </tr>\n",
       "    <tr>\n",
       "      <th>...</th>\n",
       "      <td>...</td>\n",
       "      <td>...</td>\n",
       "      <td>...</td>\n",
       "    </tr>\n",
       "    <tr>\n",
       "      <th>95</th>\n",
       "      <td>-0.99</td>\n",
       "      <td>-0.33</td>\n",
       "      <td>-0.29</td>\n",
       "    </tr>\n",
       "    <tr>\n",
       "      <th>96</th>\n",
       "      <td>1.80</td>\n",
       "      <td>0.80</td>\n",
       "      <td>1.04</td>\n",
       "    </tr>\n",
       "    <tr>\n",
       "      <th>97</th>\n",
       "      <td>0.03</td>\n",
       "      <td>0.62</td>\n",
       "      <td>0.92</td>\n",
       "    </tr>\n",
       "    <tr>\n",
       "      <th>98</th>\n",
       "      <td>1.27</td>\n",
       "      <td>1.10</td>\n",
       "      <td>1.08</td>\n",
       "    </tr>\n",
       "    <tr>\n",
       "      <th>99</th>\n",
       "      <td>0.24</td>\n",
       "      <td>0.59</td>\n",
       "      <td>0.49</td>\n",
       "    </tr>\n",
       "  </tbody>\n",
       "</table>\n",
       "<p>100 rows × 3 columns</p>\n",
       "</div>"
      ],
      "text/plain": [
       "       y   x_1   x_2\n",
       "0   0.26  0.67  0.80\n",
       "1  -0.14 -0.45  0.08\n",
       "2   0.31  0.75  1.25\n",
       "3  -1.33 -1.52 -1.62\n",
       "4  -0.60  0.18 -0.54\n",
       "..   ...   ...   ...\n",
       "95 -0.99 -0.33 -0.29\n",
       "96  1.80  0.80  1.04\n",
       "97  0.03  0.62  0.92\n",
       "98  1.27  1.10  1.08\n",
       "99  0.24  0.59  0.49\n",
       "\n",
       "[100 rows x 3 columns]"
      ]
     },
     "execution_count": 54,
     "metadata": {},
     "output_type": "execute_result"
    }
   ],
   "source": [
    "df"
   ]
  },
  {
   "cell_type": "code",
   "execution_count": 55,
   "metadata": {},
   "outputs": [
    {
     "name": "stdout",
     "output_type": "stream",
     "text": [
      "<class 'pandas.core.frame.DataFrame'>\n",
      "RangeIndex: 100 entries, 0 to 99\n",
      "Data columns (total 3 columns):\n",
      " #   Column  Non-Null Count  Dtype  \n",
      "---  ------  --------------  -----  \n",
      " 0   y       100 non-null    float64\n",
      " 1   x_1     100 non-null    float64\n",
      " 2   x_2     100 non-null    float64\n",
      "dtypes: float64(3)\n",
      "memory usage: 2.5 KB\n"
     ]
    }
   ],
   "source": [
    "df.info()"
   ]
  },
  {
   "cell_type": "code",
   "execution_count": 56,
   "metadata": {},
   "outputs": [
    {
     "data": {
      "text/html": [
       "<div>\n",
       "<style scoped>\n",
       "    .dataframe tbody tr th:only-of-type {\n",
       "        vertical-align: middle;\n",
       "    }\n",
       "\n",
       "    .dataframe tbody tr th {\n",
       "        vertical-align: top;\n",
       "    }\n",
       "\n",
       "    .dataframe thead th {\n",
       "        text-align: right;\n",
       "    }\n",
       "</style>\n",
       "<table border=\"1\" class=\"dataframe\">\n",
       "  <thead>\n",
       "    <tr style=\"text-align: right;\">\n",
       "      <th></th>\n",
       "      <th>y</th>\n",
       "      <th>x_1</th>\n",
       "      <th>x_2</th>\n",
       "    </tr>\n",
       "  </thead>\n",
       "  <tbody>\n",
       "    <tr>\n",
       "      <th>count</th>\n",
       "      <td>100.00</td>\n",
       "      <td>100.00</td>\n",
       "      <td>100.00</td>\n",
       "    </tr>\n",
       "    <tr>\n",
       "      <th>mean</th>\n",
       "      <td>-0.11</td>\n",
       "      <td>-0.10</td>\n",
       "      <td>-0.09</td>\n",
       "    </tr>\n",
       "    <tr>\n",
       "      <th>std</th>\n",
       "      <td>0.91</td>\n",
       "      <td>0.91</td>\n",
       "      <td>0.90</td>\n",
       "    </tr>\n",
       "    <tr>\n",
       "      <th>min</th>\n",
       "      <td>-2.25</td>\n",
       "      <td>-2.56</td>\n",
       "      <td>-2.29</td>\n",
       "    </tr>\n",
       "    <tr>\n",
       "      <th>25%</th>\n",
       "      <td>-0.67</td>\n",
       "      <td>-0.67</td>\n",
       "      <td>-0.78</td>\n",
       "    </tr>\n",
       "    <tr>\n",
       "      <th>50%</th>\n",
       "      <td>-0.14</td>\n",
       "      <td>-0.21</td>\n",
       "      <td>-0.19</td>\n",
       "    </tr>\n",
       "    <tr>\n",
       "      <th>75%</th>\n",
       "      <td>0.57</td>\n",
       "      <td>0.54</td>\n",
       "      <td>0.55</td>\n",
       "    </tr>\n",
       "    <tr>\n",
       "      <th>max</th>\n",
       "      <td>1.80</td>\n",
       "      <td>2.49</td>\n",
       "      <td>2.06</td>\n",
       "    </tr>\n",
       "  </tbody>\n",
       "</table>\n",
       "</div>"
      ],
      "text/plain": [
       "           y    x_1    x_2\n",
       "count 100.00 100.00 100.00\n",
       "mean   -0.11  -0.10  -0.09\n",
       "std     0.91   0.91   0.90\n",
       "min    -2.25  -2.56  -2.29\n",
       "25%    -0.67  -0.67  -0.78\n",
       "50%    -0.14  -0.21  -0.19\n",
       "75%     0.57   0.54   0.55\n",
       "max     1.80   2.49   2.06"
      ]
     },
     "execution_count": 56,
     "metadata": {},
     "output_type": "execute_result"
    }
   ],
   "source": [
    "df.describe(include='all')"
   ]
  },
  {
   "cell_type": "code",
   "execution_count": 57,
   "metadata": {},
   "outputs": [
    {
     "data": {
      "text/plain": [
       "(100, 3)"
      ]
     },
     "execution_count": 57,
     "metadata": {},
     "output_type": "execute_result"
    }
   ],
   "source": [
    "df.shape"
   ]
  },
  {
   "cell_type": "code",
   "execution_count": 58,
   "metadata": {},
   "outputs": [
    {
     "data": {
      "text/plain": [
       "Index(['y', 'x_1', 'x_2'], dtype='object')"
      ]
     },
     "execution_count": 58,
     "metadata": {},
     "output_type": "execute_result"
    }
   ],
   "source": [
    "df.columns"
   ]
  },
  {
   "cell_type": "markdown",
   "metadata": {},
   "source": [
    "### Train Test Split"
   ]
  },
  {
   "cell_type": "code",
   "execution_count": 59,
   "metadata": {},
   "outputs": [],
   "source": [
    "X = df[[\"x_1\",\"x_2\"]]\n",
    "y = df.y"
   ]
  },
  {
   "cell_type": "markdown",
   "metadata": {},
   "source": [
    "### Train Test Split Cont'd"
   ]
  },
  {
   "cell_type": "code",
   "execution_count": 60,
   "metadata": {},
   "outputs": [
    {
     "data": {
      "text/plain": [
       "(array([[ 0.67239945,  0.80186368],\n",
       "        [-0.45307181,  0.08099682],\n",
       "        [ 0.75033764,  1.25206096],\n",
       "        [-1.51906614, -1.62370838],\n",
       "        [ 0.18453789, -0.53811704],\n",
       "        [ 0.01574458,  0.80557452],\n",
       "        [-0.72934042, -0.51839557],\n",
       "        [-0.9928562 , -0.82167347],\n",
       "        [-0.63538975, -0.63962706],\n",
       "        [-0.14808612,  0.01322433],\n",
       "        [-1.29423338, -1.34621359],\n",
       "        [-0.34294409, -0.20990876],\n",
       "        [ 0.35398468,  0.22741554],\n",
       "        [ 2.49092744,  2.05762966],\n",
       "        [-1.19571384, -0.88333195],\n",
       "        [-0.11251885,  0.36806673],\n",
       "        [ 0.13323121,  0.03559887],\n",
       "        [-0.65141019, -1.04773521],\n",
       "        [-0.99924635, -0.79615182],\n",
       "        [-0.52715191, -0.54129018],\n",
       "        [-0.50278864, -1.05088043],\n",
       "        [-1.04290844, -1.04223429],\n",
       "        [ 0.07394321, -0.12537526],\n",
       "        [ 2.00970259,  1.90187886],\n",
       "        [-0.39292314, -0.75866343],\n",
       "        [-0.38426312,  0.18594041],\n",
       "        [ 0.21831934,  0.1136062 ],\n",
       "        [ 1.67934068,  1.17163276],\n",
       "        [ 0.57621001,  0.63856806],\n",
       "        [-0.37465846, -0.29143501],\n",
       "        [-1.16645109, -1.47819687],\n",
       "        [ 0.68247459, -0.23108234],\n",
       "        [-0.38663233, -0.58917043],\n",
       "        [ 0.28816753,  0.46857789],\n",
       "        [ 1.27062011,  1.25173395],\n",
       "        [ 0.74586453,  0.71481768],\n",
       "        [ 0.35603439,  0.53338148],\n",
       "        [ 0.35835989, -0.01683128],\n",
       "        [-1.09330405, -0.74647269],\n",
       "        [-0.72240767, -0.7240976 ],\n",
       "        [ 0.45838828,  0.68205955],\n",
       "        [-0.17235279,  0.15466079],\n",
       "        [-0.3489727 , -0.27830199],\n",
       "        [-0.29785281, -0.57572456],\n",
       "        [ 0.7198575 ,  1.08761919],\n",
       "        [ 1.15953943,  0.52703174],\n",
       "        [-0.71404614, -0.8863241 ],\n",
       "        [-0.70396641, -0.78481658],\n",
       "        [ 0.41114602,  0.35861393],\n",
       "        [-0.65769041, -0.33499139],\n",
       "        [-0.50201074, -0.45893359],\n",
       "        [ 0.5294345 ,  0.6581922 ],\n",
       "        [-0.24933223, -0.27135901],\n",
       "        [ 1.32740182,  1.24908348],\n",
       "        [-1.17114248, -0.95119001],\n",
       "        [-1.85857362, -1.49610438],\n",
       "        [ 0.51881263, -0.24111311],\n",
       "        [ 1.04929447,  1.23041062],\n",
       "        [-0.31058842, -0.19209016],\n",
       "        [-0.2045819 , -0.33906336],\n",
       "        [-2.55627061, -2.25553396],\n",
       "        [ 0.15067953,  0.02759192],\n",
       "        [-0.84737827, -0.93729153],\n",
       "        [-0.35317344, -0.08203666],\n",
       "        [ 0.5775742 ,  1.1213681 ],\n",
       "        [-0.69904882, -0.61364996],\n",
       "        [ 1.86106994,  1.72756364],\n",
       "        [-0.91804217, -1.29407281],\n",
       "        [-0.06430033, -0.16898215],\n",
       "        [-1.98981928, -2.28701941],\n",
       "        [-0.91363142, -0.99551309],\n",
       "        [ 0.59908085,  0.72379449],\n",
       "        [-0.55215318, -0.82153405],\n",
       "        [ 0.49792986,  1.33566999],\n",
       "        [ 1.25530868,  1.3046439 ],\n",
       "        [-0.4521065 , -0.09470358],\n",
       "        [ 0.61977538, -0.10410918],\n",
       "        [-0.56449431, -0.33016917],\n",
       "        [-0.08446094, -0.50069421],\n",
       "        [ 0.16294751,  0.45381497],\n",
       "        [ 0.74987486,  0.87577467],\n",
       "        [-0.01686937, -0.14574122],\n",
       "        [-1.39202314, -0.97325579],\n",
       "        [ 1.89468809,  1.67293917],\n",
       "        [-0.59263694, -0.7762433 ],\n",
       "        [-0.12844855, -0.44501537],\n",
       "        [-1.23383141, -1.44512804],\n",
       "        [ 0.30844174,  0.60733547],\n",
       "        [-0.33265499, -0.19550633],\n",
       "        [-0.21718495,  0.10067431],\n",
       "        [ 0.62260561,  0.49923926],\n",
       "        [-1.31000569, -1.19098696],\n",
       "        [-0.99955212, -0.92234039],\n",
       "        [-0.62786471, -1.07888688],\n",
       "        [-1.55066829, -0.98827957],\n",
       "        [-0.33412119, -0.2916051 ],\n",
       "        [ 0.79931527,  1.04141893],\n",
       "        [ 0.61989776,  0.9219385 ],\n",
       "        [ 1.09958684,  1.08359656],\n",
       "        [ 0.58652707,  0.48981974]]),\n",
       " array([ 0.2619365 , -0.14238331,  0.31024282, -1.33441751, -0.59821925,\n",
       "         1.55404474, -0.09395695, -0.22467643, -0.32806057,  1.0592879 ,\n",
       "        -1.63329345, -0.56092551,  1.22087494,  1.6500862 , -1.090637  ,\n",
       "        -0.14471404, -0.1359134 , -0.96440655, -0.49314173, -0.60764336,\n",
       "        -1.04894049, -0.06016853, -0.16656579,  1.67226814, -0.59432362,\n",
       "         0.38409582,  0.10303192,  1.28097649,  0.10221534, -0.52125027,\n",
       "        -1.17144447, -0.18567583, -0.09281402, -0.66524637,  1.35981623,\n",
       "        -0.35479945,  0.20686716, -0.1956094 , -1.27740082, -0.70057578,\n",
       "        -0.75335585,  0.77601725, -1.3969645 , -0.70910908,  0.08432812,\n",
       "         0.27225814,  0.65782669, -0.67043218, -0.50460788, -1.54812182,\n",
       "        -0.14019485,  0.5316938 , -0.45050696,  0.56094778, -1.96356319,\n",
       "        -2.25336024,  0.79367587,  0.63031713, -1.15291908,  0.996721  ,\n",
       "        -1.92102849, -0.07737616, -0.11215842,  0.39137368,  0.36561294,\n",
       "         0.86887531,  1.47402617, -1.96273056, -0.20310254, -1.82094768,\n",
       "         0.66353217,  0.6765324 , -0.32473662,  0.78857132,  0.95014654,\n",
       "        -0.27364159,  0.76114598,  0.97317253,  0.41663035,  1.08754303,\n",
       "        -0.07587797,  0.58121389, -0.93698957,  0.65652915, -0.27986638,\n",
       "        -0.36850956, -0.25119671, -0.09102161, -0.5286659 , -0.67057097,\n",
       "         0.3958984 , -0.87781125, -1.36810302, -0.2284849 , -1.96823022,\n",
       "        -0.9850697 ,  1.8037025 ,  0.02932818,  1.274693  ,  0.23912017]))"
      ]
     },
     "execution_count": 60,
     "metadata": {},
     "output_type": "execute_result"
    }
   ],
   "source": [
    "X.values, y.values"
   ]
  },
  {
   "cell_type": "code",
   "execution_count": 61,
   "metadata": {},
   "outputs": [],
   "source": [
    "X_train, X_test, y_train, y_test = train_test_split(X.values, y.values, test_size=0.5, random_state=0)"
   ]
  },
  {
   "cell_type": "code",
   "execution_count": 62,
   "metadata": {},
   "outputs": [
    {
     "data": {
      "text/plain": [
       "((50, 2), (50, 2), (50,), (50,))"
      ]
     },
     "execution_count": 62,
     "metadata": {},
     "output_type": "execute_result"
    }
   ],
   "source": [
    "X_train.shape, X_test.shape, y_train.shape, y_test.shape"
   ]
  },
  {
   "cell_type": "markdown",
   "metadata": {},
   "source": [
    "### Using Regression or Classification Models"
   ]
  },
  {
   "cell_type": "code",
   "execution_count": 63,
   "metadata": {},
   "outputs": [],
   "source": [
    "model4 = LinearRegression()"
   ]
  },
  {
   "cell_type": "code",
   "execution_count": 64,
   "metadata": {},
   "outputs": [
    {
     "data": {
      "text/plain": [
       "LinearRegression()"
      ]
     },
     "execution_count": 64,
     "metadata": {},
     "output_type": "execute_result"
    }
   ],
   "source": [
    "model4.fit(X_train,y_train)"
   ]
  },
  {
   "cell_type": "code",
   "execution_count": 65,
   "metadata": {},
   "outputs": [],
   "source": [
    "y_pred = model4.predict(X_test)"
   ]
  },
  {
   "cell_type": "markdown",
   "metadata": {},
   "source": [
    "### Model Evaluation"
   ]
  },
  {
   "cell_type": "code",
   "execution_count": 66,
   "metadata": {},
   "outputs": [
    {
     "data": {
      "text/plain": [
       "0.30177704901269586"
      ]
     },
     "execution_count": 66,
     "metadata": {},
     "output_type": "execute_result"
    }
   ],
   "source": [
    "mse = mean_squared_error(y_test,y_pred)\n",
    "mse"
   ]
  },
  {
   "cell_type": "code",
   "execution_count": 67,
   "metadata": {},
   "outputs": [
    {
     "data": {
      "text/plain": [
       "0.5493423786789946"
      ]
     },
     "execution_count": 67,
     "metadata": {},
     "output_type": "execute_result"
    }
   ],
   "source": [
    "rmse = np.sqrt(mse)\n",
    "rmse"
   ]
  },
  {
   "cell_type": "code",
   "execution_count": 68,
   "metadata": {},
   "outputs": [
    {
     "data": {
      "text/plain": [
       "0.594108347698685"
      ]
     },
     "execution_count": 68,
     "metadata": {},
     "output_type": "execute_result"
    }
   ],
   "source": [
    "r2score = r2_score(y_test,y_pred)\n",
    "r2score"
   ]
  },
  {
   "cell_type": "code",
   "execution_count": 69,
   "metadata": {},
   "outputs": [
    {
     "data": {
      "image/png": "[encoded data removed]",
      "text/plain": [
       "<Figure size 720x576 with 1 Axes>"
      ]
     },
     "metadata": {},
     "output_type": "display_data"
    }
   ],
   "source": [
    "fig, ax = plt.subplots(figsize=(10,8))\n",
    "sns.regplot(x=y_test, y=y_pred, ax=ax)\n",
    "plt.title(\"Plot to compare actual vs predicted\")\n",
    "plt.ylabel(\"Predicted\")\n",
    "plt.xlabel(\"Actual\")\n",
    "plt.show()"
   ]
  },
  {
   "cell_type": "code",
   "execution_count": null,
   "metadata": {},
   "outputs": [],
   "source": []
  },
  {
   "cell_type": "code",
   "execution_count": null,
   "metadata": {},
   "outputs": [],
   "source": []
  },
  {
   "cell_type": "markdown",
   "metadata": {},
   "source": [
    "#### Python code done by Dennis Lam"
   ]
  },
  {
   "cell_type": "code",
   "execution_count": null,
   "metadata": {},
   "outputs": [],
   "source": []
  }
 ],
 "metadata": {
  "kernelspec": {
   "display_name": "Python 3",
   "language": "python",
   "name": "python3"
  },
  "language_info": {
   "codemirror_mode": {
    "name": "ipython",
    "version": 3
   },
   "file_extension": ".py",
   "mimetype": "text/x-python",
   "name": "python",
   "nbconvert_exporter": "python",
   "pygments_lexer": "ipython3",
   "version": "3.8.5"
  }
 },
 "nbformat": 4,
 "nbformat_minor": 4
}
