{
 "cells": [
  {
   "cell_type": "markdown",
   "metadata": {},
   "source": [
    "### Random Variables and Sampling Models"
   ]
  },
  {
   "cell_type": "markdown",
   "metadata": {},
   "source": [
    "An American roulette wheel has 18 red, 18 black, and 2 green pockets. Each red and black pocket is associated with a number from 1 to 36. The two remaining green slots feature \"0\" and \"00\". Players place bets on which pocket they think a ball will land in after the wheel is spun. Players can bet on a specific number (0, 00, 1-36) or color (red, black, or green).\n",
    "\n",
    "What are the chances that the ball lands in a green pocket?"
   ]
  },
  {
   "cell_type": "markdown",
   "metadata": {},
   "source": [
    "In American roulette, the payout for winning on green is $17. This means that if you bet $1 and it lands on green, you get $17 as a prize.\n",
    "\n",
    "Create a model to predict your winnings from betting on green one time."
   ]
  },
  {
   "cell_type": "markdown",
   "metadata": {},
   "source": [
    "In American roulette, the payout for winning on green is $17. This means that if you bet $1 and it lands on green, you get $17 as a prize.In the previous exercise, you created a model to predict your winnings from betting on green.\n",
    "\n",
    "Now, compute the expected value of\n",
    ", the random variable you generated previously."
   ]
  },
  {
   "cell_type": "markdown",
   "metadata": {},
   "source": [
    "The standard error of a random variable tells us the difference between a random variable and its expected value. You calculated a random variable\n",
    "\n",
    "in exercise 2 and the expected value of that random variable in exercise 3.\n",
    "\n",
    "Now, compute the standard error of that random variable, which represents a single outcome after one spin of the roulette wheel."
   ]
  },
  {
   "cell_type": "markdown",
   "metadata": {},
   "source": [
    "You modeled the outcome of a single spin of the roulette wheel,\n",
    "\n",
    ", in exercise 2.\n",
    "\n",
    "Now create a random variable\n",
    "that sums your winnings after betting on green 1,000 times."
   ]
  },
  {
   "cell_type": "markdown",
   "metadata": {},
   "source": [
    "In the previous exercise, you generated a vector of random outcomes,\n",
    "\n",
    ", after betting on green 1,000 times.\n",
    "\n",
    "What is the expected value of\n",
    "?"
   ]
  },
  {
   "cell_type": "markdown",
   "metadata": {},
   "source": [
    "You generated the expected value of\n",
    "\n",
    ", the outcomes of 1,000 bets that the ball lands in the green pocket, in the previous exercise.\n",
    "\n",
    "What is the standard error of\n",
    "?"
   ]
  },
  {
   "cell_type": "markdown",
   "metadata": {},
   "source": [
    "### The Central Limit Theorem"
   ]
  },
  {
   "cell_type": "markdown",
   "metadata": {},
   "source": [
    "In the previous chapter of exercises, you created a random variable\n",
    "\n",
    "that is the sum of your winnings after betting on green a number of times in American Roulette.\n",
    "\n",
    "What is the probability that you end up winning money if you bet on green 100 times?"
   ]
  },
  {
   "cell_type": "markdown",
   "metadata": {},
   "source": [
    "Create a Monte Carlo simulation that generates 10,000 outcomes of\n",
    "\n",
    ", the sum of 100 bets.\n",
    "\n",
    "Compute the average and standard deviation of the resulting list and compare them to the expected value (-5.263158) and standard error (40.19344) for\n",
    "that you calculated previously."
   ]
  },
  {
   "cell_type": "markdown",
   "metadata": {},
   "source": [
    "Now, calculate the probability of winning money from the Monte Carlo simulation. The Monte Carlo simulation from the previous exercise has already been pre-run for you, resulting in the variable S that contains a list of 10,000 simulated outcomes."
   ]
  },
  {
   "cell_type": "markdown",
   "metadata": {},
   "source": [
    "Now create a random variable that contains your average winnings per bet after betting on green 10,000 times."
   ]
  },
  {
   "cell_type": "markdown",
   "metadata": {},
   "source": [
    "What is the expected value of , the average outcome per bet after betting on green 10,000 times?"
   ]
  },
  {
   "cell_type": "markdown",
   "metadata": {},
   "source": [
    "What is the standard error of , the average result of 10,000 spins?"
   ]
  },
  {
   "cell_type": "markdown",
   "metadata": {},
   "source": [
    "What is the probability that your winnings are positive after betting on green 10,000 times?"
   ]
  },
  {
   "cell_type": "markdown",
   "metadata": {},
   "source": [
    "Create a Monte Carlo simulation that generates 10,000 outcomes of\n",
    "\n",
    ", the average outcome from 10,000 bets on green.\n",
    "\n",
    "Compute the average and standard deviation of the resulting list to confirm the results from previous exercises using the Central Limit Theorem."
   ]
  },
  {
   "cell_type": "markdown",
   "metadata": {},
   "source": [
    "What is the probability of winning more than $0 as estimated by your Monte Carlo simulation? The code to generate the vector S that contains the the average outcomes of 10,000 bets modeled 10,000 times has already been run for you."
   ]
  },
  {
   "cell_type": "code",
   "execution_count": null,
   "metadata": {},
   "outputs": [],
   "source": []
  }
 ],
 "metadata": {
  "kernelspec": {
   "display_name": "Python 3",
   "language": "python",
   "name": "python3"
  },
  "language_info": {
   "codemirror_mode": {
    "name": "ipython",
    "version": 3
   },
   "file_extension": ".py",
   "mimetype": "text/x-python",
   "name": "python",
   "nbconvert_exporter": "python",
   "pygments_lexer": "ipython3",
   "version": "3.8.5"
  }
 },
 "nbformat": 4,
 "nbformat_minor": 4
}
