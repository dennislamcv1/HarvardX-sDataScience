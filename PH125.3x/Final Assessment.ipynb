{
 "cells": [
  {
   "cell_type": "markdown",
   "metadata": {},
   "source": [
    "### Insurance rates"
   ]
  },
  {
   "cell_type": "markdown",
   "metadata": {},
   "source": [
    "An insurance company offers a one-year term life insurance policy that pays $$150,000 in the event of death within one year. The premium (annual cost) for this policy for a 50 year old female is $1,150. Suppose that in the event of a claim, the company forfeits the premium and loses a total of $150,000, and if there is no claim the company gains the premium amount of $1,150. The company plans to sell 1,000 policies to this demographic."
   ]
  },
  {
   "cell_type": "code",
   "execution_count": 1,
   "metadata": {},
   "outputs": [],
   "source": [
    "# The death_prob data frame contains information about the estimated probability\n",
    "#  of death within 1 year (prob) for different ages and sexes.\n",
    "# Use death_prob to determine the death probability of a 50 year old female, p."
   ]
  },
  {
   "cell_type": "code",
   "execution_count": 2,
   "metadata": {},
   "outputs": [],
   "source": [
    "# The loss in the event of the policy holder's death is -$150,000 and the gain\n",
    "#  if the policy holder remains alive is the premium $1,150.\n",
    "# What is the expected value of the company's net profit on one policy for a\n",
    "#  50 year old female?"
   ]
  },
  {
   "cell_type": "code",
   "execution_count": 3,
   "metadata": {},
   "outputs": [],
   "source": [
    "# Calculate the standard error of the profit on one policy for a 50 year old female."
   ]
  },
  {
   "cell_type": "code",
   "execution_count": 4,
   "metadata": {},
   "outputs": [],
   "source": [
    "# What is the expected value of the company's profit over all 1,000 policies for 50\n",
    "#  year old females?"
   ]
  },
  {
   "cell_type": "code",
   "execution_count": 5,
   "metadata": {},
   "outputs": [],
   "source": [
    "# What is the standard error of the sum of the expected value over all 1,000 policies\n",
    "#  for 50 year old females?"
   ]
  },
  {
   "cell_type": "code",
   "execution_count": 6,
   "metadata": {},
   "outputs": [],
   "source": [
    "# Use the Central Limit Theorem to calculate the probability that the insurance\n",
    "#  company loses money on this set of 1,000 policies."
   ]
  },
  {
   "cell_type": "code",
   "execution_count": 7,
   "metadata": {},
   "outputs": [],
   "source": [
    "# Use death_prob to determine the probability of death within one year for\n",
    "#  a 50 year old male."
   ]
  },
  {
   "cell_type": "code",
   "execution_count": 8,
   "metadata": {},
   "outputs": [],
   "source": [
    "# Suppose the company wants its expected profits from 1,000 50 year old males\n",
    "#  with $150,000 life insurance policies to be $700,000. Use the formula for\n",
    "#  expected value of the sum of draws with the following values and solve for the\n",
    "#  premium b:\n",
    "# where   E[S] = mu_S = 700000\n",
    "#         n = 1000\n",
    "#         p = death probability of 50 year old males\n",
    "#         a = 150000 loss\n",
    "#         b = premium to solve\n",
    "# E[S] = n * (ap + b(1-p))\n",
    "# --> b = ((E[S]/n) - ap)/(1-p)"
   ]
  },
  {
   "cell_type": "code",
   "execution_count": 9,
   "metadata": {},
   "outputs": [],
   "source": [
    "# Using the new 50 year old male premium rate, calculate the standard error of\n",
    "#  the sum of 1,000 premiums."
   ]
  },
  {
   "cell_type": "code",
   "execution_count": 10,
   "metadata": {},
   "outputs": [],
   "source": [
    "# What is the probability of losing money on a series of 1,000 policies to 50\n",
    "# year old males? Use the Central Limit Theorem."
   ]
  },
  {
   "cell_type": "code",
   "execution_count": 11,
   "metadata": {},
   "outputs": [],
   "source": [
    "# a lethal pandemic disease increases the probability of death within 1 year\n",
    "#  for a 50 year old to .015. Unable to predict the outbreak, the company has\n",
    "#  sold 1,000 $150,000 life insurance policies for $1,150.\n",
    "# What is the expected value of the company's profits over 1,000 policies?"
   ]
  },
  {
   "cell_type": "code",
   "execution_count": 12,
   "metadata": {},
   "outputs": [],
   "source": [
    "# What is the standard error of the expected value of the company's profits over\n",
    "#  1,000 policies?"
   ]
  },
  {
   "cell_type": "code",
   "execution_count": 13,
   "metadata": {},
   "outputs": [],
   "source": [
    "# What is the probability of the company losing money?"
   ]
  },
  {
   "cell_type": "code",
   "execution_count": 14,
   "metadata": {},
   "outputs": [],
   "source": [
    "# Suppose the company can afford to sustain one-time losses of $1 million, but\n",
    "#  larger losses will force it to go out of business. What is the probability of\n",
    "#  losing more than $1 million?"
   ]
  },
  {
   "cell_type": "code",
   "execution_count": 15,
   "metadata": {},
   "outputs": [],
   "source": [
    "# Investigate death probabilities p <- seq(.01, .03, .001). What is the lowest\n",
    "#  death probability for which the chance of losing money exceeds 90%?"
   ]
  },
  {
   "cell_type": "code",
   "execution_count": 16,
   "metadata": {},
   "outputs": [],
   "source": [
    "# Investigate death probabilities p <- seq(.01, .03, .0025). What is the lowest\n",
    "#  death probability for which the chance of losing over $1 million exceeds 90%?"
   ]
  },
  {
   "cell_type": "code",
   "execution_count": 17,
   "metadata": {},
   "outputs": [],
   "source": [
    "# Define a sampling model for simulating the total profit over 1,000 loans with\n",
    "#  probability of claim p_loss = .015, loss of -$150,000 on a claim, and profit\n",
    "#  of $1,150 when there is no claim. Set the seed to 25, then run the model once.\n",
    "# What is the reported profit (or loss) in millions (that is, divided by 10^6)?"
   ]
  },
  {
   "cell_type": "code",
   "execution_count": 18,
   "metadata": {},
   "outputs": [],
   "source": [
    "# Set the seed to 27, then run a Monte Carlo simulation of your sampling model\n",
    "#  with 10,000 replicates to simulate the range of profits/losses over 1,000 loans.\n",
    "# What is the observed probability of losing $1 million or more?"
   ]
  },
  {
   "cell_type": "code",
   "execution_count": 19,
   "metadata": {},
   "outputs": [],
   "source": [
    "# Suppose that there is a massive demand for life insurance due to the pandemic,\n",
    "#  and the company wants to find a premium cost for which the probability of losing\n",
    "#  money is under 5%, assuming the death rate stays stable at p = 0.015\n",
    "# Calculate the premium required for a 5% chance of losing money given n = 1000 loans\n",
    "#  probability of death p = 0.015, and loss per claim l=-150000. Save this premium\n",
    "#  as x for use in further questions."
   ]
  },
  {
   "cell_type": "code",
   "execution_count": 20,
   "metadata": {},
   "outputs": [],
   "source": [
    "# What is the expected profit per policy at this rate?"
   ]
  },
  {
   "cell_type": "code",
   "execution_count": 21,
   "metadata": {},
   "outputs": [],
   "source": [
    "# What is the expected profit over 1,000 policies?"
   ]
  },
  {
   "cell_type": "code",
   "execution_count": 22,
   "metadata": {},
   "outputs": [],
   "source": [
    "# Run a Monte Carlo simulation with B=10000 to determine the probability of losing\n",
    "#  money on 1,000 policies given the new premium x, loss on a claim of $150,000,\n",
    "#  and probability of claim p=0.015. Set the seed to 28 before running your \n",
    "#  simulation.\n",
    "# What is the probability of losing money here?"
   ]
  },
  {
   "cell_type": "code",
   "execution_count": 23,
   "metadata": {},
   "outputs": [],
   "source": [
    "# The company cannot predict whether the pandemic death rate will stay stable. Set\n",
    "#  the seed to 29, then write a Monte Carlo simulation that for each of B=10000\n",
    "#  iterations:\n",
    "#  - randomly changes p by adding a value between -0.01 and 0.01 with\n",
    "#    sample(seq(-0.01, 0.01, length = 100), 1)\n",
    "#  - uses the new random p to generate a sample of n=1000 policies with premium x\n",
    "#    and loss per claim l=-150000\n",
    "#  - returns the profit over n policies (sum of random variable)\n",
    "# The outcome should be a vector of B total profits"
   ]
  },
  {
   "cell_type": "code",
   "execution_count": 24,
   "metadata": {},
   "outputs": [],
   "source": [
    "# What is the expected value over 1,000 policies?"
   ]
  },
  {
   "cell_type": "code",
   "execution_count": 25,
   "metadata": {},
   "outputs": [],
   "source": [
    "# What is the probability of losing money?"
   ]
  },
  {
   "cell_type": "code",
   "execution_count": 26,
   "metadata": {},
   "outputs": [],
   "source": [
    "# probability of losing more than one million dollars?"
   ]
  }
 ],
 "metadata": {
  "kernelspec": {
   "display_name": "Python 3",
   "language": "python",
   "name": "python3"
  },
  "language_info": {
   "codemirror_mode": {
    "name": "ipython",
    "version": 3
   },
   "file_extension": ".py",
   "mimetype": "text/x-python",
   "name": "python",
   "nbconvert_exporter": "python",
   "pygments_lexer": "ipython3",
   "version": "3.8.5"
  }
 },
 "nbformat": 4,
 "nbformat_minor": 4
}
