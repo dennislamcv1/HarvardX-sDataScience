{
 "cells": [
  {
   "cell_type": "markdown",
   "metadata": {},
   "source": [
    "### Introduction to Inference"
   ]
  },
  {
   "cell_type": "markdown",
   "metadata": {},
   "source": [
    "Write function called take_sample that takes the proportion of Democrats and the sample size\n",
    "\n",
    "as arguments and returns the sample average of Democrats (1) and Republicans (0).\n",
    "\n",
    "Calculate the sample average if the proportion of Democrats equals 0.45 and the sample size is 100."
   ]
  },
  {
   "cell_type": "markdown",
   "metadata": {},
   "source": [
    "Assume the proportion of Democrats in the population equals 0.45 and that your sample size is 100 polled voters. The take_sample function you defined previously generates our estimate,\n",
    "\n",
    ".\n",
    "\n",
    "Replicate the random sampling 10,000 times and calculate\n",
    "for each random sample. Save these differences as a vector called errors. Find the average of errors and plot a histogram of the distribution."
   ]
  },
  {
   "cell_type": "markdown",
   "metadata": {},
   "source": [
    "What is the average size of the error if we define the size by taking the absolute value\n",
    "?"
   ]
  },
  {
   "cell_type": "markdown",
   "metadata": {},
   "source": [
    "Calculate the standard deviation of the spread."
   ]
  },
  {
   "cell_type": "markdown",
   "metadata": {},
   "source": [
    "Estimate the standard error given an expected value of 0.45 and a sample size of 100."
   ]
  },
  {
   "cell_type": "markdown",
   "metadata": {},
   "source": [
    "Calculate the standard error of the estimate:"
   ]
  },
  {
   "cell_type": "markdown",
   "metadata": {},
   "source": [
    "Create a plot of the largest standard error for ranging from 100 to 5,000. Based on this plot, how large does the sample size have to be to have a standard error of about 1%?"
   ]
  },
  {
   "cell_type": "markdown",
   "metadata": {},
   "source": [
    "Make a qq-plot of the errors you generated previously to see if they follow a normal distribution."
   ]
  },
  {
   "cell_type": "markdown",
   "metadata": {},
   "source": [
    "If and , use the central limit theorem to estimate the probability that"
   ]
  },
  {
   "cell_type": "markdown",
   "metadata": {},
   "source": [
    "What is the CLT approximation for the probability that your error size is equal or larger than 0.01?"
   ]
  },
  {
   "cell_type": "code",
   "execution_count": null,
   "metadata": {},
   "outputs": [],
   "source": []
  }
 ],
 "metadata": {
  "kernelspec": {
   "display_name": "Python 3",
   "language": "python",
   "name": "python3"
  },
  "language_info": {
   "codemirror_mode": {
    "name": "ipython",
    "version": 3
   },
   "file_extension": ".py",
   "mimetype": "text/x-python",
   "name": "python",
   "nbconvert_exporter": "python",
   "pygments_lexer": "ipython3",
   "version": "3.8.5"
  }
 },
 "nbformat": 4,
 "nbformat_minor": 4
}
