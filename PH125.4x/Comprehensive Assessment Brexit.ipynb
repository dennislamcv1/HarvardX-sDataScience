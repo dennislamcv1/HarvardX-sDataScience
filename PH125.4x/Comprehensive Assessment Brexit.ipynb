{
 "cells": [
  {
   "cell_type": "markdown",
   "metadata": {},
   "source": [
    "### Brexit poll analysis - Part 1"
   ]
  },
  {
   "cell_type": "markdown",
   "metadata": {},
   "source": [
    "Question 1: Expected value and standard error of a poll\n",
    "\n",
    "The final proportion of voters choosing \"Remain\" was 𝑝=0.481. Consider a poll with a sample of 𝑁=1500 voters."
   ]
  },
  {
   "cell_type": "markdown",
   "metadata": {},
   "source": [
    "What is the expected total number of voters in the sample choosing \"Remain\"?"
   ]
  },
  {
   "cell_type": "markdown",
   "metadata": {},
   "source": [
    "What is the standard error of the total number of voters in the sample choosing \"Remain\"?"
   ]
  },
  {
   "cell_type": "markdown",
   "metadata": {},
   "source": [
    "What is the expected value of 𝑋̂ , the proportion of \"Remain\" voters?"
   ]
  },
  {
   "cell_type": "markdown",
   "metadata": {},
   "source": [
    "What is the standard error of 𝑋̂ , the proportion of \"Remain\" voters?"
   ]
  },
  {
   "cell_type": "markdown",
   "metadata": {},
   "source": [
    "What is the expected value of 𝑑, the spread between the proportion of \"Remain\" voters and \"Leave\" voters?"
   ]
  },
  {
   "cell_type": "markdown",
   "metadata": {},
   "source": [
    "What is the standard error of 𝑑, the spread between the proportion of \"Remain\" voters and \"Leave\" voters?"
   ]
  },
  {
   "cell_type": "markdown",
   "metadata": {},
   "source": [
    "Question 2: Actual Brexit poll estimates\n",
    "\n",
    "Load and inspect the brexit_polls dataset from dslabs, which contains actual polling data for the 6 months before the Brexit vote.\n",
    "\n",
    "Calculate x_hat for each poll, the estimate of the proportion of voters choosing \"Remain\" on the referendum day (𝑝=0.481), given the observed spread and the relationship 𝑑̂ =2𝑋̂ −1."
   ]
  },
  {
   "cell_type": "markdown",
   "metadata": {},
   "source": [
    "### Brexit poll analysis - Part 2"
   ]
  },
  {
   "cell_type": "markdown",
   "metadata": {},
   "source": [
    "Question 4: Confidence intervals for polls in June\n",
    "\n",
    "How many polls are in june_polls?"
   ]
  },
  {
   "cell_type": "markdown",
   "metadata": {},
   "source": [
    "Question 5: Hit rate by pollster\n",
    "\n",
    "Group and summarize the june_polls object by pollster to find the proportion of hits for each pollster and the number of polls per pollster. Use arrange() to sort by hit rate."
   ]
  },
  {
   "cell_type": "markdown",
   "metadata": {},
   "source": [
    "Question 6: Boxplot of Brexit polls by poll type\n",
    "\n",
    "Make a boxplot of the spread in june_polls by poll type."
   ]
  },
  {
   "cell_type": "markdown",
   "metadata": {},
   "source": [
    "Question 7: Combined spread across poll type\n",
    "\n",
    "Calculate the confidence intervals of the spread combined across all polls in june_polls, grouping by poll type.\n",
    "\n",
    "Use this code to begin your analysis:"
   ]
  },
  {
   "cell_type": "markdown",
   "metadata": {},
   "source": [
    "### Brexit poll analysis - Part 3"
   ]
  },
  {
   "cell_type": "markdown",
   "metadata": {},
   "source": [
    "Question 9: Chi-squared p-value\n",
    "\n",
    "Define brexit_hit, with the following code, which computes the confidence intervals for all Brexit polls in 2016 \n",
    "and then calculates whether the confidence interval covers the actual value of the spread  𝑑=−0.038 :"
   ]
  },
  {
   "cell_type": "markdown",
   "metadata": {},
   "source": [
    "Question 10: Odds ratio of online and telephone poll hit rate\n",
    "\n",
    "Use the two-by-two table constructed in the previous exercise to calculate the odds ratio between the hit rate of online and telephone polls to determine the magnitude of the difference in performance between the poll types."
   ]
  },
  {
   "cell_type": "markdown",
   "metadata": {},
   "source": [
    "Question 11: Plotting spread over time\n",
    "\n",
    "Use brexit_polls to make a plot of the spread (spread) over time (enddate) colored by poll type (poll_type). \n",
    "\n",
    "Use geom_smooth() with method = \"loess\" to plot smooth curves with a span of 0.4. \n",
    "\n",
    "Include the individual data points colored by poll type. \n",
    "\n",
    "Add a horizontal line indicating the final value of  𝑑=−.038 ."
   ]
  },
  {
   "cell_type": "markdown",
   "metadata": {},
   "source": [
    "Question 12: Plotting raw percentages over time\n",
    "    \n",
    "Use the following code to create the object brexit_long, which has a column vote containing the three possible votes on a Brexit poll (\"remain\", \"leave\", \"undecided\") \n",
    "and a column proportion containing the raw proportion choosing that vote option on the given poll:"
   ]
  },
  {
   "cell_type": "code",
   "execution_count": null,
   "metadata": {},
   "outputs": [],
   "source": []
  }
 ],
 "metadata": {
  "kernelspec": {
   "display_name": "Python 3",
   "language": "python",
   "name": "python3"
  },
  "language_info": {
   "codemirror_mode": {
    "name": "ipython",
    "version": 3
   },
   "file_extension": ".py",
   "mimetype": "text/x-python",
   "name": "python",
   "nbconvert_exporter": "python",
   "pygments_lexer": "ipython3",
   "version": "3.8.5"
  }
 },
 "nbformat": 4,
 "nbformat_minor": 4
}
